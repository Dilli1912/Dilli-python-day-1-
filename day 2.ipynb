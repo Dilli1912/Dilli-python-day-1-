{
 "cells": [
  {
   "cell_type": "code",
   "execution_count": 1,
   "id": "267c9f4c-095f-4c1b-9f99-28b72d48d41f",
   "metadata": {},
   "outputs": [
    {
     "data": {
      "text/plain": [
       "1"
      ]
     },
     "execution_count": 1,
     "metadata": {},
     "output_type": "execute_result"
    }
   ],
   "source": [
    "X=\"data engineer\"\n",
    "X.count(\" \")"
   ]
  },
  {
   "cell_type": "code",
   "execution_count": 2,
   "id": "c92584a0-bbdd-4338-9c68-dc313179731d",
   "metadata": {},
   "outputs": [
    {
     "data": {
      "text/plain": [
       "3"
      ]
     },
     "execution_count": 2,
     "metadata": {},
     "output_type": "execute_result"
    }
   ],
   "source": [
    "X=\"data engineer\"\n",
    "X.count(\"e\")"
   ]
  },
  {
   "cell_type": "code",
   "execution_count": 3,
   "id": "598df4bb-b68a-4cf3-8e3c-d4e8c3ccaabd",
   "metadata": {},
   "outputs": [
    {
     "data": {
      "text/plain": [
       "'Storage engineer'"
      ]
     },
     "execution_count": 3,
     "metadata": {},
     "output_type": "execute_result"
    }
   ],
   "source": [
    "X=\"data engineer\"\n",
    "X.replace(\"data\",\"Storage\")"
   ]
  },
  {
   "cell_type": "code",
   "execution_count": 4,
   "id": "2bc8d47a-60ab-4462-9f83-738beba48d15",
   "metadata": {},
   "outputs": [
    {
     "data": {
      "text/plain": [
       "'dyyytyyy engineer'"
      ]
     },
     "execution_count": 4,
     "metadata": {},
     "output_type": "execute_result"
    }
   ],
   "source": [
    "X.replace(\"a\",\"yyy\")"
   ]
  },
  {
   "cell_type": "code",
   "execution_count": 5,
   "id": "be61e630-4432-4ba1-97d8-72ceb8630db3",
   "metadata": {},
   "outputs": [
    {
     "data": {
      "text/plain": [
       "'dataxxengineer'"
      ]
     },
     "execution_count": 5,
     "metadata": {},
     "output_type": "execute_result"
    }
   ],
   "source": [
    "X.replace(\" \",\"xx\")"
   ]
  },
  {
   "cell_type": "code",
   "execution_count": 6,
   "id": "80b2922d-6206-4918-8e22-8625f088bb2d",
   "metadata": {},
   "outputs": [
    {
     "data": {
      "text/plain": [
       "'data engineeR'"
      ]
     },
     "execution_count": 6,
     "metadata": {},
     "output_type": "execute_result"
    }
   ],
   "source": [
    "X.replace(\"r\",\"R\")"
   ]
  },
  {
   "cell_type": "code",
   "execution_count": 7,
   "id": "e08192b9-f45a-4565-9e97-c6842158754b",
   "metadata": {},
   "outputs": [
    {
     "data": {
      "text/plain": [
       "8"
      ]
     },
     "execution_count": 7,
     "metadata": {},
     "output_type": "execute_result"
    }
   ],
   "source": [
    "X.index(\"i\")"
   ]
  },
  {
   "cell_type": "code",
   "execution_count": 8,
   "id": "5b3b4fa0-e654-41a0-a28c-326597403028",
   "metadata": {},
   "outputs": [
    {
     "data": {
      "text/plain": [
       "2"
      ]
     },
     "execution_count": 8,
     "metadata": {},
     "output_type": "execute_result"
    }
   ],
   "source": [
    "X.index(\"t\")"
   ]
  },
  {
   "cell_type": "code",
   "execution_count": 11,
   "id": "63ecd89b-0b17-405d-bf2c-4577fec4ccd3",
   "metadata": {},
   "outputs": [
    {
     "data": {
      "text/plain": [
       "'data eng'"
      ]
     },
     "execution_count": 11,
     "metadata": {},
     "output_type": "execute_result"
    }
   ],
   "source": [
    "X[0:8]"
   ]
  },
  {
   "cell_type": "code",
   "execution_count": 12,
   "id": "3056d941-f0e2-40c6-a707-a26214a3f81b",
   "metadata": {},
   "outputs": [
    {
     "data": {
      "text/plain": [
       "'data engineer'"
      ]
     },
     "execution_count": 12,
     "metadata": {},
     "output_type": "execute_result"
    }
   ],
   "source": [
    "X[:]"
   ]
  },
  {
   "cell_type": "code",
   "execution_count": 13,
   "id": "b87983ed-09e9-440c-8703-b345e58e1e69",
   "metadata": {},
   "outputs": [
    {
     "data": {
      "text/plain": [
       "'d'"
      ]
     },
     "execution_count": 13,
     "metadata": {},
     "output_type": "execute_result"
    }
   ],
   "source": [
    "X[0:1]"
   ]
  },
  {
   "cell_type": "code",
   "execution_count": 14,
   "id": "368d06ea-9f5c-437f-9550-cba91810e0df",
   "metadata": {},
   "outputs": [
    {
     "data": {
      "text/plain": [
       "'DATA ENGI'"
      ]
     },
     "execution_count": 14,
     "metadata": {},
     "output_type": "execute_result"
    }
   ],
   "source": [
    "X[0:9].swapcase()"
   ]
  },
  {
   "cell_type": "code",
   "execution_count": 15,
   "id": "fb9be6bf-b653-4326-a157-32d0cc7ea5af",
   "metadata": {},
   "outputs": [
    {
     "data": {
      "text/plain": [
       "['engin']"
      ]
     },
     "execution_count": 15,
     "metadata": {},
     "output_type": "execute_result"
    }
   ],
   "source": [
    "X[5:10].split()"
   ]
  },
  {
   "cell_type": "code",
   "execution_count": 16,
   "id": "8c71a4f4-3981-4cd4-8544-251918ad1700",
   "metadata": {},
   "outputs": [
    {
     "data": {
      "text/plain": [
       "['a', 'engi']"
      ]
     },
     "execution_count": 16,
     "metadata": {},
     "output_type": "execute_result"
    }
   ],
   "source": [
    "X[3:9].split()"
   ]
  },
  {
   "cell_type": "code",
   "execution_count": 17,
   "id": "182827d8-2bec-4d5f-8d65-8fa5bcba835f",
   "metadata": {},
   "outputs": [
    {
     "data": {
      "text/plain": [
       "'TA EN'"
      ]
     },
     "execution_count": 17,
     "metadata": {},
     "output_type": "execute_result"
    }
   ],
   "source": [
    "X.upper()[2:7]"
   ]
  },
  {
   "cell_type": "code",
   "execution_count": 18,
   "id": "a5808861-a268-40fd-a854-1fead6d7eeef",
   "metadata": {},
   "outputs": [
    {
     "data": {
      "text/plain": [
       "'Data '"
      ]
     },
     "execution_count": 18,
     "metadata": {},
     "output_type": "execute_result"
    }
   ],
   "source": [
    "X[0:5].title()"
   ]
  },
  {
   "cell_type": "code",
   "execution_count": 19,
   "id": "b7cc5fb8-9b8a-408e-b322-513462d5677e",
   "metadata": {},
   "outputs": [
    {
     "data": {
      "text/plain": [
       "'INEER'"
      ]
     },
     "execution_count": 19,
     "metadata": {},
     "output_type": "execute_result"
    }
   ],
   "source": [
    "X[8:].swapcase()"
   ]
  },
  {
   "cell_type": "code",
   "execution_count": 20,
   "id": "85b8667d-2357-4267-9679-841b8e1a6cae",
   "metadata": {},
   "outputs": [
    {
     "data": {
      "text/plain": [
       "'ENGINEER'"
      ]
     },
     "execution_count": 20,
     "metadata": {},
     "output_type": "execute_result"
    }
   ],
   "source": [
    "X.split()[1].swapcase()"
   ]
  },
  {
   "cell_type": "code",
   "execution_count": 21,
   "id": "4fea737f-a8b0-409f-a3b5-5a52fa082f24",
   "metadata": {},
   "outputs": [
    {
     "data": {
      "text/plain": [
       "'Data'"
      ]
     },
     "execution_count": 21,
     "metadata": {},
     "output_type": "execute_result"
    }
   ],
   "source": [
    "X.split()[0].title()"
   ]
  },
  {
   "cell_type": "code",
   "execution_count": 24,
   "id": "3774a5fc-d01e-4006-87f1-35c3fd3c2284",
   "metadata": {},
   "outputs": [
    {
     "data": {
      "text/plain": [
       "'data                engineer'"
      ]
     },
     "execution_count": 24,
     "metadata": {},
     "output_type": "execute_result"
    }
   ],
   "source": [
    "X=\"data \\tengineer\"\n",
    "X.expandtabs(20)"
   ]
  },
  {
   "cell_type": "code",
   "execution_count": 27,
   "id": "8ce3461c-86ad-4a07-83d3-5780fd9da4f3",
   "metadata": {},
   "outputs": [
    {
     "data": {
      "text/plain": [
       "'data engineer'"
      ]
     },
     "execution_count": 27,
     "metadata": {},
     "output_type": "execute_result"
    }
   ],
   "source": [
    "X=\"data \\tengineer\"\n",
    "X.expandtabs(-8)"
   ]
  },
  {
   "cell_type": "code",
   "execution_count": 31,
   "id": "f7985d6d-666e-4030-878b-0cb4ac1f499b",
   "metadata": {},
   "outputs": [
    {
     "data": {
      "text/plain": [
       "'                    data engineer'"
      ]
     },
     "execution_count": 31,
     "metadata": {},
     "output_type": "execute_result"
    }
   ],
   "source": [
    "X=\"\\tdata engineer\"\n",
    "X.expandtabs(20)"
   ]
  },
  {
   "cell_type": "code",
   "execution_count": 32,
   "id": "5e35d253-b97f-4917-97c5-29a5291d5528",
   "metadata": {},
   "outputs": [
    {
     "data": {
      "text/plain": [
       "False"
      ]
     },
     "execution_count": 32,
     "metadata": {},
     "output_type": "execute_result"
    }
   ],
   "source": [
    "X.isspace()"
   ]
  },
  {
   "cell_type": "code",
   "execution_count": 35,
   "id": "cf9a4de4-c13b-46cf-a31b-b9cd97b7a433",
   "metadata": {},
   "outputs": [
    {
     "data": {
      "text/plain": [
       "False"
      ]
     },
     "execution_count": 35,
     "metadata": {},
     "output_type": "execute_result"
    }
   ],
   "source": [
    "X=\"data base\"\n",
    "X.isspace()"
   ]
  },
  {
   "cell_type": "code",
   "execution_count": 36,
   "id": "a45cf7ca-a171-47a6-9c75-ec4ad066bbc7",
   "metadata": {},
   "outputs": [
    {
     "data": {
      "text/plain": [
       "0"
      ]
     },
     "execution_count": 36,
     "metadata": {},
     "output_type": "execute_result"
    }
   ],
   "source": [
    "X=\"data engineer\"\n",
    "X.find(\"d\")"
   ]
  },
  {
   "cell_type": "code",
   "execution_count": 37,
   "id": "b8b0262b-128d-4d40-abd6-7c50c110ce26",
   "metadata": {},
   "outputs": [
    {
     "data": {
      "text/plain": [
       "1"
      ]
     },
     "execution_count": 37,
     "metadata": {},
     "output_type": "execute_result"
    }
   ],
   "source": [
    "X.find(\"a\")"
   ]
  },
  {
   "cell_type": "code",
   "execution_count": 38,
   "id": "5ee336a4-7948-43f7-8c02-d2743a2c7a67",
   "metadata": {},
   "outputs": [
    {
     "data": {
      "text/plain": [
       "5"
      ]
     },
     "execution_count": 38,
     "metadata": {},
     "output_type": "execute_result"
    }
   ],
   "source": [
    "X.find(\"e\")"
   ]
  },
  {
   "cell_type": "code",
   "execution_count": 39,
   "id": "8a8b0142-6ba0-41ad-b3d2-0744d0b8c8f8",
   "metadata": {},
   "outputs": [
    {
     "data": {
      "text/plain": [
       "-1"
      ]
     },
     "execution_count": 39,
     "metadata": {},
     "output_type": "execute_result"
    }
   ],
   "source": [
    "X.find(\"abc\")"
   ]
  },
  {
   "cell_type": "code",
   "execution_count": 40,
   "id": "6d9b2db2-be9a-4bbc-91cd-a87bbb495578",
   "metadata": {},
   "outputs": [
    {
     "data": {
      "text/plain": [
       "-1"
      ]
     },
     "execution_count": 40,
     "metadata": {},
     "output_type": "execute_result"
    }
   ],
   "source": [
    "X.find(\"7,9\")"
   ]
  },
  {
   "cell_type": "code",
   "execution_count": 47,
   "id": "08cf4b38-5b5e-493f-80c2-2509bc4da34e",
   "metadata": {},
   "outputs": [
    {
     "data": {
      "text/plain": [
       "'***dataengineer***'"
      ]
     },
     "execution_count": 47,
     "metadata": {},
     "output_type": "execute_result"
    }
   ],
   "source": [
    "X=\"dataengineer\"\n",
    "X.center(18,\"*\")"
   ]
  },
  {
   "cell_type": "code",
   "execution_count": 48,
   "id": "391c10de-170e-4556-884e-ebea6715a9d9",
   "metadata": {},
   "outputs": [
    {
     "data": {
      "text/plain": [
       "'@@@@dataengineer@@@@'"
      ]
     },
     "execution_count": 48,
     "metadata": {},
     "output_type": "execute_result"
    }
   ],
   "source": [
    "X.center(20,\"@\")"
   ]
  },
  {
   "cell_type": "code",
   "execution_count": 50,
   "id": "b2a7e8ae-1e93-44b5-b8a2-b32db6d16f85",
   "metadata": {},
   "outputs": [
    {
     "data": {
      "text/plain": [
       "'#############data engineer##############'"
      ]
     },
     "execution_count": 50,
     "metadata": {},
     "output_type": "execute_result"
    }
   ],
   "source": [
    "X=\"data engineer\"\n",
    "X.center(40,\"#\")"
   ]
  },
  {
   "cell_type": "code",
   "execution_count": 60,
   "id": "e93d49e6-3195-4744-9dea-4f477ea95429",
   "metadata": {},
   "outputs": [
    {
     "data": {
      "text/plain": [
       "'0000000data engineer'"
      ]
     },
     "execution_count": 60,
     "metadata": {},
     "output_type": "execute_result"
    }
   ],
   "source": [
    "X=\"data engineer\"\n",
    "X.zfill(20)"
   ]
  },
  {
   "cell_type": "code",
   "execution_count": 67,
   "id": "b7861c5b-7fac-48ac-a25c-7c447a356069",
   "metadata": {},
   "outputs": [
    {
     "data": {
      "text/plain": [
       "'Data engineer '"
      ]
     },
     "execution_count": 67,
     "metadata": {},
     "output_type": "execute_result"
    }
   ],
   "source": [
    "X=\" Data engineer \" \n",
    "X.lstrip()"
   ]
  },
  {
   "cell_type": "code",
   "execution_count": 68,
   "id": "391a8daa-1c88-4777-86f1-7f89cb0e201a",
   "metadata": {},
   "outputs": [
    {
     "data": {
      "text/plain": [
       "' Data engineer'"
      ]
     },
     "execution_count": 68,
     "metadata": {},
     "output_type": "execute_result"
    }
   ],
   "source": [
    "X.rstrip()"
   ]
  },
  {
   "cell_type": "code",
   "execution_count": 69,
   "id": "d0a7fc6f-cafa-4571-aa2d-3ff3e50b6a95",
   "metadata": {},
   "outputs": [
    {
     "data": {
      "text/plain": [
       "'Data engineer'"
      ]
     },
     "execution_count": 69,
     "metadata": {},
     "output_type": "execute_result"
    }
   ],
   "source": [
    "X.strip()"
   ]
  },
  {
   "cell_type": "code",
   "execution_count": 71,
   "id": "93908e9c-e712-4730-b193-79b497ebaa62",
   "metadata": {},
   "outputs": [
    {
     "data": {
      "text/plain": [
       "'data engineer       '"
      ]
     },
     "execution_count": 71,
     "metadata": {},
     "output_type": "execute_result"
    }
   ],
   "source": [
    "X=\"data engineer\"\n",
    "X.ljust(20)"
   ]
  },
  {
   "cell_type": "code",
   "execution_count": 74,
   "id": "6b861718-5aa6-475e-8f5b-a4d95ecfd4b0",
   "metadata": {},
   "outputs": [
    {
     "data": {
      "text/plain": [
       "'data engineer*******'"
      ]
     },
     "execution_count": 74,
     "metadata": {},
     "output_type": "execute_result"
    }
   ],
   "source": [
    "X.ljust(20,\"*\")"
   ]
  }
 ],
 "metadata": {
  "kernelspec": {
   "display_name": "Python 3 (ipykernel)",
   "language": "python",
   "name": "python3"
  },
  "language_info": {
   "codemirror_mode": {
    "name": "ipython",
    "version": 3
   },
   "file_extension": ".py",
   "mimetype": "text/x-python",
   "name": "python",
   "nbconvert_exporter": "python",
   "pygments_lexer": "ipython3",
   "version": "3.13.5"
  }
 },
 "nbformat": 4,
 "nbformat_minor": 5
}
