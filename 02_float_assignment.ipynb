{
 "cells": [
  {
   "cell_type": "code",
   "execution_count": null,
   "id": "a5d644c5",
   "metadata": {},
   "outputs": [],
   "source": [
    "# SOLVED EXAMPLE\n",
    "# --------------\n",
    "# Question: Calculate the area of a circle with radius 5.5\n",
    "print(\"SOLVED EXAMPLE:\")\n",
    "print(\"Calculate the area of a circle with radius 5.5\")\n",
    "import math\n",
    "radius = 5.5\n",
    "area = math.pi * radius ** 2\n",
    "print(f\"Radius: {radius}\")\n",
    "print(f\"Area: {area:.2f}\")\n",
    "print(\"@\" * 50)"
   ]
  },
  {
   "cell_type": "code",
   "execution_count": null,
   "id": "eeb6d102",
   "metadata": {},
   "outputs": [],
   "source": [
    "print(\"ASSIGNMENT QUESTIONS\")\n",
    "# ===================\n",
    "\n",
    "# Question 1: Calculate the average of 3.14, 2.718, 1.618, 0.577\n",
    "print(\"Question 1: Calculate the average of 3.14, 2.718, 1.618, 0.577\")\n",
    "X={3.14,2.718,1.618,0.577}\n",
    "count=len(X)\n",
    "A=sum(X)/count\n",
    "print(\"number of digits entered =\",count)\n",
    "print(\"The average of given digits is\",A)\n",
    "print(\"@\" * 50)\n"
   ]
  },
  {
   "cell_type": "code",
   "execution_count": null,
   "id": "8495b442",
   "metadata": {},
   "outputs": [],
   "source": [
    "# Question 2: Convert 98.6 Fahrenheit to Celsius (F = C * 9/5 + 32)\n",
    "print(\"\\nQuestion 2: Convert 98.6 Fahrenheit to Celsius\")\n",
    "\n",
    "X=float(input())\n",
    "Y=(X-32)*(5/9)\n",
    "print(\"input fahrenheit degree=\",X)\n",
    "print(\"Celcius value of given fahrenheit degree is\",Y)\n",
    "print(\"@\" * 50)"
   ]
  },
  {
   "cell_type": "code",
   "execution_count": null,
   "id": "f613d74a",
   "metadata": {},
   "outputs": [],
   "source": [
    "# Question 3: Calculate the compound interest on $1000 at 5.5% for 3 years\n",
    "print(\"\\nQuestion 3: Calculate compound interest on $1000 at 5.5% for 3 years\")\n",
    "P=1000\n",
    "R=5.5\n",
    "T=3\n",
    "Amount=P*((1+(R/100))**T)\n",
    "CI=Amount-P\n",
    "print(\"compound interst on $1000 at 5.5% ffor 3 years is\",CI)\n",
    "print(\"@\" * 50)"
   ]
  },
  {
   "cell_type": "code",
   "execution_count": null,
   "id": "1950682a",
   "metadata": {},
   "outputs": [],
   "source": [
    "\n",
    "# Question 4: Find the hypotenuse of a right triangle with sides 3.5 and 4.2\n",
    "print(\"\\nQuestion 4: Find the hypotenuse of a right triangle with sides 3.5 and 4.2\")\n",
    "A=3.5\n",
    "B=4.2\n",
    "H=((A**2)+(B**2))**1/2\n",
    "print(\"Hypotenuse of a right triangle is\",H)\n",
    "print(\"@\" * 50)\n"
   ]
  },
  {
   "cell_type": "code",
   "execution_count": null,
   "id": "5fe3d042",
   "metadata": {},
   "outputs": [],
   "source": [
    "# Question 5: Calculate the volume of a sphere with radius 7.8\n",
    "print(\"\\nQuestion 5: Calculate the volume of a sphere with radius 7.8\")\n",
    "R=7.8\n",
    "Pi=3.14159\n",
    "V=(4/3)*(Pi)*((7.8)**3)\n",
    "print(\"Volume of sphere with radius 7.8 is\",V)\n",
    "print(\"@\"*50)"
   ]
  },
  {
   "cell_type": "code",
   "execution_count": null,
   "id": "29ad79a7",
   "metadata": {},
   "outputs": [],
   "source": [
    "# Question 6: Round 3.14159 to 3 decimal places\n",
    "print(\"\\nQuestion 6: Round 3.14159 to 3 decimal places\")\n",
    "\n",
    "N=3.14159\n",
    "R=round(N,3)\n",
    "print(\"Rounded to 3 decimsl places \",R)\n",
    "print(\"@\"*50)"
   ]
  },
  {
   "cell_type": "code",
   "execution_count": null,
   "id": "6b80c20a",
   "metadata": {},
   "outputs": [],
   "source": [
    "\n",
    "# Question 7: Calculate the percentage: 45 out of 67\n",
    "print(\"\\nQuestion 7: Calculate the percentage: 45 out of 67\")\n",
    "P=(45/67)/100\n",
    "print(f\"percentage:{P}%\")\n",
    "print(\"@\"*50)"
   ]
  },
  {
   "cell_type": "code",
   "execution_count": null,
   "id": "ff3c3026",
   "metadata": {},
   "outputs": [],
   "source": [
    "# Question 8: Find the square root of 23.456\n",
    "print(\"\\nQuestion 8: Find the square root of 23.456\")\n",
    "X=float(input())\n",
    "S=X**(1/2)\n",
    "print(\"Suare root of X\",S)\n",
    "print(\"@\"*50)"
   ]
  },
  {
   "cell_type": "code",
   "execution_count": null,
   "id": "68705d84",
   "metadata": {},
   "outputs": [],
   "source": [
    "# Question 9: Calculate the simple interest: Principal=2500, Rate=6.5%, Time=2.5 years\n",
    "print(\"\\nQuestion 9: Calculate simple interest: Principal=2500, Rate=6.5%, Time=2.5 years\")\n",
    "P=2500\n",
    "R=6.5\n",
    "T=2.5 \n",
    "S_I=(P*T*R)/100\n",
    "print(f\"Simple interest:{S_I}\")\n",
    "print(\"@\"*50)\n"
   ]
  },
  {
   "cell_type": "code",
   "execution_count": null,
   "id": "594cef38",
   "metadata": {},
   "outputs": [],
   "source": [
    "# Question 10: Convert 45.7 degrees to radians\n",
    "print(\"\\nQuestion 10: Convert 45.7 degrees to radians\")\n",
    "D=45.7\n",
    "Pi=3.14159\n",
    "Radians=D*(Pi/180)\n",
    "print(f\"radians:{Radians}\")\n",
    "print(\"@\"*50)\n"
   ]
  }
 ],
 "metadata": {
  "kernelspec": {
   "display_name": "Python 3",
   "language": "python",
   "name": "python3"
  },
  "language_info": {
   "codemirror_mode": {
    "name": "ipython",
    "version": 3
   },
   "file_extension": ".py",
   "mimetype": "text/x-python",
   "name": "python",
   "nbconvert_exporter": "python",
   "pygments_lexer": "ipython3",
   "version": "3.13.5"
  }
 },
 "nbformat": 4,
 "nbformat_minor": 5
}
