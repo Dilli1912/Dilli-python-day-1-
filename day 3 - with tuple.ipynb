{
 "cells": [
  {
   "cell_type": "code",
   "execution_count": 4,
   "id": "634112f9",
   "metadata": {},
   "outputs": [
    {
     "data": {
      "text/plain": [
       "list"
      ]
     },
     "execution_count": 4,
     "metadata": {},
     "output_type": "execute_result"
    }
   ],
   "source": [
    "X=[1,2.5,4,5,\"data\",2+3j]\n",
    "type(X)"
   ]
  },
  {
   "cell_type": "code",
   "execution_count": 5,
   "id": "91a458b9",
   "metadata": {},
   "outputs": [
    {
     "data": {
      "text/plain": [
       "6"
      ]
     },
     "execution_count": 5,
     "metadata": {},
     "output_type": "execute_result"
    }
   ],
   "source": [
    "len(X)"
   ]
  },
  {
   "cell_type": "code",
   "execution_count": 6,
   "id": "3c0d897f",
   "metadata": {},
   "outputs": [
    {
     "data": {
      "text/plain": [
       "[1, 2.5, 4, 5, 'data', (2+3j)]"
      ]
     },
     "execution_count": 6,
     "metadata": {},
     "output_type": "execute_result"
    }
   ],
   "source": [
    "X"
   ]
  },
  {
   "cell_type": "code",
   "execution_count": 8,
   "id": "7add8423",
   "metadata": {},
   "outputs": [
    {
     "data": {
      "text/plain": [
       "(int, list, list, list)"
      ]
     },
     "execution_count": 8,
     "metadata": {},
     "output_type": "execute_result"
    }
   ],
   "source": [
    "type(X[0]),type([1]),type([2]),type([3])"
   ]
  },
  {
   "cell_type": "code",
   "execution_count": 11,
   "id": "ccda9c13",
   "metadata": {},
   "outputs": [
    {
     "data": {
      "text/plain": [
       "(int, float, int, str)"
      ]
     },
     "execution_count": 11,
     "metadata": {},
     "output_type": "execute_result"
    }
   ],
   "source": [
    "X=[1,2.5,4,5,\"data\",2+3j]\n",
    "type(X[0]),type(X[1]),type(X[2]),type(X[-2])"
   ]
  },
  {
   "cell_type": "code",
   "execution_count": 13,
   "id": "d8d13231",
   "metadata": {},
   "outputs": [
    {
     "data": {
      "text/plain": [
       "[20, 2.5, 4, 5, 'data', (2+3j)]"
      ]
     },
     "execution_count": 13,
     "metadata": {},
     "output_type": "execute_result"
    }
   ],
   "source": [
    "X[0]=20\n",
    "X"
   ]
  },
  {
   "cell_type": "code",
   "execution_count": 21,
   "id": "e078c67a",
   "metadata": {},
   "outputs": [
    {
     "data": {
      "text/plain": [
       "[1, 2.5, 4, 5, 'abc', (2+3j)]"
      ]
     },
     "execution_count": 21,
     "metadata": {},
     "output_type": "execute_result"
    }
   ],
   "source": [
    "X=[1,2.5,4,5,\"data\",2+3j]\n",
    "X[4]=\"abc\"\n",
    "X"
   ]
  },
  {
   "cell_type": "code",
   "execution_count": 30,
   "id": "b890ded2",
   "metadata": {},
   "outputs": [
    {
     "data": {
      "text/plain": [
       "(3, [1, 2, 3], [3])"
      ]
     },
     "execution_count": 30,
     "metadata": {},
     "output_type": "execute_result"
    }
   ],
   "source": [
    "X=[1,2,3,[1,2,3]]\n",
    "X[2],X[3],[3]"
   ]
  },
  {
   "cell_type": "code",
   "execution_count": 31,
   "id": "91bcb1a4",
   "metadata": {},
   "outputs": [
    {
     "data": {
      "text/plain": [
       "'engineer'"
      ]
     },
     "execution_count": 31,
     "metadata": {},
     "output_type": "execute_result"
    }
   ],
   "source": [
    "X=[1,2,3,[\"data\",\"engineer\",\"azure\"],[\"python\"]]\n",
    "X[-2][-2]"
   ]
  },
  {
   "cell_type": "code",
   "execution_count": 34,
   "id": "9fd76083",
   "metadata": {},
   "outputs": [
    {
     "data": {
      "text/plain": [
       "'re'"
      ]
     },
     "execution_count": 34,
     "metadata": {},
     "output_type": "execute_result"
    }
   ],
   "source": [
    "X[-2][-1][-2:]"
   ]
  },
  {
   "cell_type": "code",
   "execution_count": 49,
   "id": "da38420e",
   "metadata": {},
   "outputs": [
    {
     "data": {
      "text/plain": [
       "'hon'"
      ]
     },
     "execution_count": 49,
     "metadata": {},
     "output_type": "execute_result"
    }
   ],
   "source": [
    "X[-1][-1][-3:]"
   ]
  },
  {
   "cell_type": "code",
   "execution_count": 53,
   "id": "96050fb0",
   "metadata": {},
   "outputs": [
    {
     "data": {
      "text/plain": [
       "'YTHON'"
      ]
     },
     "execution_count": 53,
     "metadata": {},
     "output_type": "execute_result"
    }
   ],
   "source": [
    "X[4][0][-5:].upper()"
   ]
  },
  {
   "cell_type": "code",
   "execution_count": 55,
   "id": "6706bb3e",
   "metadata": {},
   "outputs": [],
   "source": [
    "temperature_data = [\n",
    "    [   # Week 1\n",
    "        [\"Monday\",    [24.5, 34.2, 22.1, 36.0]],\n",
    "        [\"Tuesday\",   [25.0, 33.5, 23.0, 35.5]],\n",
    "        [\"Wednesday\", [23.8, 32.0, 21.5, 34.0]],\n",
    "    ],\n",
    "    [   # Week 2\n",
    "        [\"Monday\",    [26.1, 35.0, 24.2, 37.2]],\n",
    "        [\"Tuesday\",   [25.8, 34.5, 23.7, 36.1]],\n",
    "        [\"Wednesday\", [24.9, 33.3, 22.5, 35.7]],\n",
    "    ]\n",
    "]"
   ]
  },
  {
   "cell_type": "code",
   "execution_count": 56,
   "id": "17e21da9",
   "metadata": {},
   "outputs": [
    {
     "data": {
      "text/plain": [
       "36.1"
      ]
     },
     "execution_count": 56,
     "metadata": {},
     "output_type": "execute_result"
    }
   ],
   "source": [
    "temperature_data[-1][-2][-1][-1]"
   ]
  },
  {
   "cell_type": "code",
   "execution_count": 61,
   "id": "f42e9eb4",
   "metadata": {},
   "outputs": [
    {
     "data": {
      "text/plain": [
       "23.0"
      ]
     },
     "execution_count": 61,
     "metadata": {},
     "output_type": "execute_result"
    }
   ],
   "source": [
    "temperature_data[0][1][1][2]"
   ]
  },
  {
   "cell_type": "code",
   "execution_count": 69,
   "id": "cb687eb0",
   "metadata": {},
   "outputs": [
    {
     "data": {
      "text/plain": [
       "[1, 2, 3, '4,5']"
      ]
     },
     "execution_count": 69,
     "metadata": {},
     "output_type": "execute_result"
    }
   ],
   "source": [
    "X=[1,2,3]\n",
    "X.append(\"4,5\")\n",
    "X"
   ]
  },
  {
   "cell_type": "code",
   "execution_count": 72,
   "id": "160ea614",
   "metadata": {},
   "outputs": [
    {
     "data": {
      "text/plain": [
       "[1, 2, 3, 'alpha']"
      ]
     },
     "execution_count": 72,
     "metadata": {},
     "output_type": "execute_result"
    }
   ],
   "source": [
    "X=[1,2,3]\n",
    "X.append(\"alpha\")\n",
    "X"
   ]
  },
  {
   "cell_type": "code",
   "execution_count": 82,
   "id": "fa383f0b",
   "metadata": {},
   "outputs": [
    {
     "data": {
      "text/plain": [
       "[1, 2, 3, 'd', 'a']"
      ]
     },
     "execution_count": 82,
     "metadata": {},
     "output_type": "execute_result"
    }
   ],
   "source": [
    "X=[1,2,3]\n",
    "X.extend(\"data\"[0:2])\n",
    "X"
   ]
  },
  {
   "cell_type": "code",
   "execution_count": 83,
   "id": "170d2216",
   "metadata": {},
   "outputs": [
    {
     "data": {
      "text/plain": [
       "[1, 2, 3, 'd', 'a']"
      ]
     },
     "execution_count": 83,
     "metadata": {},
     "output_type": "execute_result"
    }
   ],
   "source": [
    "X"
   ]
  },
  {
   "cell_type": "code",
   "execution_count": 86,
   "id": "327d969b",
   "metadata": {},
   "outputs": [
    {
     "data": {
      "text/plain": [
       "[1, 2, 3, 'a']"
      ]
     },
     "execution_count": 86,
     "metadata": {},
     "output_type": "execute_result"
    }
   ],
   "source": [
    "X=[1,2,3,'d','a']\n",
    "X.remove('d')\n",
    "X"
   ]
  },
  {
   "cell_type": "code",
   "execution_count": 88,
   "id": "ec724b89",
   "metadata": {},
   "outputs": [
    {
     "data": {
      "text/plain": [
       "[1, 2, 3]"
      ]
     },
     "execution_count": 88,
     "metadata": {},
     "output_type": "execute_result"
    }
   ],
   "source": [
    "X.remove('a')\n",
    "X"
   ]
  },
  {
   "cell_type": "code",
   "execution_count": 93,
   "id": "c38b9f1e",
   "metadata": {},
   "outputs": [
    {
     "data": {
      "text/plain": [
       "['data', 1, 2, 'data', 3]"
      ]
     },
     "execution_count": 93,
     "metadata": {},
     "output_type": "execute_result"
    }
   ],
   "source": [
    "X.insert(0,\"data\")\n",
    "X"
   ]
  },
  {
   "cell_type": "code",
   "execution_count": 96,
   "id": "e16462d2",
   "metadata": {},
   "outputs": [
    {
     "data": {
      "text/plain": [
       "['data', 1, 2, 'data', 3, 'd', 'a', 't', 'a']"
      ]
     },
     "execution_count": 96,
     "metadata": {},
     "output_type": "execute_result"
    }
   ],
   "source": [
    "X.extend(\"data\")\n",
    "X"
   ]
  },
  {
   "cell_type": "code",
   "execution_count": null,
   "id": "fbde7cdc",
   "metadata": {},
   "outputs": [
    {
     "data": {
      "text/plain": [
       "[0, 1, 3, 4, 6, 9]"
      ]
     },
     "execution_count": 99,
     "metadata": {},
     "output_type": "execute_result"
    }
   ],
   "source": [
    "X=[4,6,3,1,0,9]\n",
    "X.sort()\n",
    "X"
   ]
  },
  {
   "cell_type": "code",
   "execution_count": 100,
   "id": "6b14a05a",
   "metadata": {},
   "outputs": [
    {
     "ename": "NameError",
     "evalue": "name 'd' is not defined",
     "output_type": "error",
     "traceback": [
      "\u001b[31m---------------------------------------------------------------------------\u001b[39m",
      "\u001b[31mNameError\u001b[39m                                 Traceback (most recent call last)",
      "\u001b[36mCell\u001b[39m\u001b[36m \u001b[39m\u001b[32mIn[100]\u001b[39m\u001b[32m, line 1\u001b[39m\n\u001b[32m----> \u001b[39m\u001b[32m1\u001b[39m X=[\u001b[32m4\u001b[39m,\u001b[32m6\u001b[39m,\u001b[32m3\u001b[39m,\u001b[32m1\u001b[39m,\u001b[32m0\u001b[39m,\u001b[32m9\u001b[39m,\u001b[43md\u001b[49m,a,t,s]\n\u001b[32m      2\u001b[39m X.sort()\n\u001b[32m      3\u001b[39m X\n",
      "\u001b[31mNameError\u001b[39m: name 'd' is not defined"
     ]
    }
   ],
   "source": [
    "X=[4,6,3,1,0,9,d,a,t,s]\n",
    "X.sort()\n",
    "X"
   ]
  },
  {
   "cell_type": "code",
   "execution_count": 108,
   "id": "1db1df82",
   "metadata": {},
   "outputs": [
    {
     "data": {
      "text/plain": [
       "['dataengineer']"
      ]
     },
     "execution_count": 108,
     "metadata": {},
     "output_type": "execute_result"
    }
   ],
   "source": [
    "X=[\"dataengineer\"]\n",
    "X.sort()\n",
    "X"
   ]
  },
  {
   "cell_type": "code",
   "execution_count": 111,
   "id": "482d0214",
   "metadata": {},
   "outputs": [
    {
     "data": {
      "text/plain": [
       "['qrs', 'def', 'abc', 'Xyz']"
      ]
     },
     "execution_count": 111,
     "metadata": {},
     "output_type": "execute_result"
    }
   ],
   "source": [
    "X=[\"Xyz\",\"abc\",\"def\",\"qrs\"]\n",
    "X.sort(reverse=True)\n",
    "X"
   ]
  },
  {
   "cell_type": "code",
   "execution_count": 112,
   "id": "5946ab14",
   "metadata": {},
   "outputs": [
    {
     "data": {
      "text/plain": [
       "['data', 45, 0, 3, 21]"
      ]
     },
     "execution_count": 112,
     "metadata": {},
     "output_type": "execute_result"
    }
   ],
   "source": [
    "X=[21,3,0,45,\"data\"]\n",
    "X.reverse()\n",
    "X"
   ]
  },
  {
   "cell_type": "code",
   "execution_count": 114,
   "id": "444a2b13",
   "metadata": {},
   "outputs": [
    {
     "name": "stdout",
     "output_type": "stream",
     "text": [
      "[1, 2, 111, 4]\n",
      "[1, 2, 3, 4]\n"
     ]
    }
   ],
   "source": [
    "X=[1,2,3,4]\n",
    "Y=X.copy()\n",
    "Y[2]=111\n",
    "print(Y)\n",
    "print(X)"
   ]
  },
  {
   "cell_type": "code",
   "execution_count": 116,
   "id": "058a9985",
   "metadata": {},
   "outputs": [
    {
     "data": {
      "text/plain": [
       "3"
      ]
     },
     "execution_count": 116,
     "metadata": {},
     "output_type": "execute_result"
    }
   ],
   "source": [
    "X=[1,2,1,\"d\",\"a\",\"t\",\"a\",\"e\",\"n\",\"g\",\"i\",\"n\",\"e\",\"e\",\"r\"]\n",
    "X.count(\"e\")"
   ]
  },
  {
   "cell_type": "code",
   "execution_count": 117,
   "id": "fae2c547",
   "metadata": {},
   "outputs": [
    {
     "data": {
      "text/plain": [
       "[1, 2, 1, 'd', 'a', 't', 'a', 'e', 'n', 'g', 'i', 'n', 'e', 'e']"
      ]
     },
     "execution_count": 117,
     "metadata": {},
     "output_type": "execute_result"
    }
   ],
   "source": [
    "X.pop()\n",
    "X"
   ]
  },
  {
   "cell_type": "code",
   "execution_count": 118,
   "id": "b0bd3742",
   "metadata": {},
   "outputs": [
    {
     "data": {
      "text/plain": [
       "[1, 2, 1, 'd', 'a', 't', 'a', 'e', 'n', 'g', 'i', 'n', 'e']"
      ]
     },
     "execution_count": 118,
     "metadata": {},
     "output_type": "execute_result"
    }
   ],
   "source": [
    "X.pop()\n",
    "X"
   ]
  },
  {
   "cell_type": "code",
   "execution_count": 119,
   "id": "a7926bde",
   "metadata": {},
   "outputs": [
    {
     "data": {
      "text/plain": [
       "[1, 2, 1, 'd', 'a', 't', 'a', 'e', 'n', 'g', 'i', 'n']"
      ]
     },
     "execution_count": 119,
     "metadata": {},
     "output_type": "execute_result"
    }
   ],
   "source": [
    "X.pop()\n",
    "X"
   ]
  },
  {
   "cell_type": "code",
   "execution_count": 122,
   "id": "cadc9fa4",
   "metadata": {},
   "outputs": [
    {
     "data": {
      "text/plain": [
       "tuple"
      ]
     },
     "execution_count": 122,
     "metadata": {},
     "output_type": "execute_result"
    }
   ],
   "source": [
    "X=(1,2,3)\n",
    "type(X)"
   ]
  },
  {
   "cell_type": "code",
   "execution_count": 123,
   "id": "fe806c26",
   "metadata": {},
   "outputs": [
    {
     "data": {
      "text/plain": [
       "4"
      ]
     },
     "execution_count": 123,
     "metadata": {},
     "output_type": "execute_result"
    }
   ],
   "source": [
    "X=(1,2,3,4,5,6)\n",
    "X.index(5)"
   ]
  },
  {
   "cell_type": "code",
   "execution_count": 124,
   "id": "f2b9b431",
   "metadata": {},
   "outputs": [
    {
     "data": {
      "text/plain": [
       "1"
      ]
     },
     "execution_count": 124,
     "metadata": {},
     "output_type": "execute_result"
    }
   ],
   "source": [
    "X.count(1)"
   ]
  },
  {
   "cell_type": "code",
   "execution_count": 125,
   "id": "c87fa190",
   "metadata": {},
   "outputs": [
    {
     "data": {
      "text/plain": [
       "2"
      ]
     },
     "execution_count": 125,
     "metadata": {},
     "output_type": "execute_result"
    }
   ],
   "source": [
    "X=(1,2,3,4,4,3,2,1)\n",
    "X.count(1)"
   ]
  },
  {
   "cell_type": "code",
   "execution_count": 126,
   "id": "54a08cf6",
   "metadata": {},
   "outputs": [
    {
     "ename": "AttributeError",
     "evalue": "'tuple' object has no attribute 'remove'",
     "output_type": "error",
     "traceback": [
      "\u001b[31m---------------------------------------------------------------------------\u001b[39m",
      "\u001b[31mAttributeError\u001b[39m                            Traceback (most recent call last)",
      "\u001b[36mCell\u001b[39m\u001b[36m \u001b[39m\u001b[32mIn[126]\u001b[39m\u001b[32m, line 1\u001b[39m\n\u001b[32m----> \u001b[39m\u001b[32m1\u001b[39m \u001b[43mX\u001b[49m\u001b[43m.\u001b[49m\u001b[43mremove\u001b[49m(\u001b[32m3\u001b[39m)\n\u001b[32m      2\u001b[39m X\n",
      "\u001b[31mAttributeError\u001b[39m: 'tuple' object has no attribute 'remove'"
     ]
    }
   ],
   "source": [
    "X.remove(3)\n",
    "X"
   ]
  },
  {
   "cell_type": "code",
   "execution_count": 127,
   "id": "6cc69162",
   "metadata": {},
   "outputs": [
    {
     "data": {
      "text/plain": [
       "3"
      ]
     },
     "execution_count": 127,
     "metadata": {},
     "output_type": "execute_result"
    }
   ],
   "source": [
    "X.index(4)"
   ]
  },
  {
   "cell_type": "code",
   "execution_count": 3,
   "id": "8b4fdf8c",
   "metadata": {},
   "outputs": [
    {
     "data": {
      "text/plain": [
       "'BTECH'"
      ]
     },
     "execution_count": 3,
     "metadata": {},
     "output_type": "execute_result"
    }
   ],
   "source": [
    "University={\"JNTU\":\"BTECH\",\"COURSE COMPLETION\":4}\n",
    "University['JNTU']"
   ]
  },
  {
   "cell_type": "code",
   "execution_count": 4,
   "id": "725de796",
   "metadata": {},
   "outputs": [
    {
     "data": {
      "text/plain": [
       "4"
      ]
     },
     "execution_count": 4,
     "metadata": {},
     "output_type": "execute_result"
    }
   ],
   "source": [
    "University['COURSE COMPLETION']"
   ]
  },
  {
   "cell_type": "code",
   "execution_count": 17,
   "id": "fe9d8d61",
   "metadata": {},
   "outputs": [],
   "source": [
    "Employee_data = {\n",
    "  \"E001\":{\n",
    "      \"firstName\": \"John\",\n",
    "      \"lastName\": \"Doe\",\n",
    "      \"age\": 30,\n",
    "      \"email\": \"john.doe@example.com\",\n",
    "      \"department\": \"Engineering\",\n",
    "      \"skills\": [\"Python\", \"JavaScript\", \"SQL\"],\n",
    "      \"address\": {\n",
    "        \"street\": \"123 Main St\",\n",
    "        \"city\": \"Anytown\",\n",
    "        \"zipCode\": \"12345\"}\n",
    "      },\n",
    "    \"E002\":{\n",
    "      \"firstName\": \"Jane\",\n",
    "      \"lastName\": \"Smith\",\n",
    "      \"age\": 25,\n",
    "      \"email\": \"jane.smith@example.com\",\n",
    "      \"department\": \"Marketing\",\n",
    "      \"skills\": [\"Content Creation\", \"Social Media\", \"SEO\"],\n",
    "      \"address\": {\n",
    "        \"street\": \"456 Oak Ave\",\n",
    "        \"city\": \"Anytown\",\n",
    "        \"zipCode\": \"12345\"\n",
    "      }\n",
    "    }\n",
    "}"
   ]
  },
  {
   "cell_type": "code",
   "execution_count": 18,
   "id": "883b552b",
   "metadata": {},
   "outputs": [
    {
     "data": {
      "text/plain": [
       "{'E001': {'firstName': 'John',\n",
       "  'lastName': 'Doe',\n",
       "  'age': 30,\n",
       "  'email': 'john.doe@example.com',\n",
       "  'department': 'Engineering',\n",
       "  'skills': ['Python', 'JavaScript', 'SQL'],\n",
       "  'address': {'street': '123 Main St', 'city': 'Anytown', 'zipCode': '12345'}},\n",
       " 'E002': {'firstName': 'Jane',\n",
       "  'lastName': 'Smith',\n",
       "  'age': 25,\n",
       "  'email': 'jane.smith@example.com',\n",
       "  'department': 'Marketing',\n",
       "  'skills': ['Content Creation', 'Social Media', 'SEO'],\n",
       "  'address': {'street': '456 Oak Ave', 'city': 'Anytown', 'zipCode': '12345'}}}"
      ]
     },
     "execution_count": 18,
     "metadata": {},
     "output_type": "execute_result"
    }
   ],
   "source": [
    "Employee_data"
   ]
  },
  {
   "cell_type": "code",
   "execution_count": 31,
   "id": "eeff5b94",
   "metadata": {},
   "outputs": [
    {
     "data": {
      "text/plain": [
       "{'firstName': 'John',\n",
       " 'lastName': 'Doe',\n",
       " 'age': 30,\n",
       " 'email': 'john.doe@example.com',\n",
       " 'department': 'Engineering',\n",
       " 'skills': ['Python', 'JavaScript', 'SQL'],\n",
       " 'address': {'street': '123 Main St', 'city': 'Anytown', 'zipCode': '12345'}}"
      ]
     },
     "execution_count": 31,
     "metadata": {},
     "output_type": "execute_result"
    }
   ],
   "source": [
    "Employee_data['E001']"
   ]
  },
  {
   "cell_type": "code",
   "execution_count": 30,
   "id": "ef3204c1",
   "metadata": {},
   "outputs": [
    {
     "data": {
      "text/plain": [
       "'Anytown'"
      ]
     },
     "execution_count": 30,
     "metadata": {},
     "output_type": "execute_result"
    }
   ],
   "source": [
    "Employee_data['E001']['address']['city']"
   ]
  },
  {
   "cell_type": "code",
   "execution_count": 29,
   "id": "187caea4",
   "metadata": {},
   "outputs": [
    {
     "data": {
      "text/plain": [
       "'jane.smith@example.com'"
      ]
     },
     "execution_count": 29,
     "metadata": {},
     "output_type": "execute_result"
    }
   ],
   "source": [
    "Employee_data['E002']['email']"
   ]
  },
  {
   "cell_type": "code",
   "execution_count": 28,
   "id": "5cf1fc11",
   "metadata": {},
   "outputs": [
    {
     "data": {
      "text/plain": [
       "dict_keys(['E001', 'E002'])"
      ]
     },
     "execution_count": 28,
     "metadata": {},
     "output_type": "execute_result"
    }
   ],
   "source": [
    "Employee_data.keys()"
   ]
  },
  {
   "cell_type": "code",
   "execution_count": 27,
   "id": "3ec0fabb",
   "metadata": {},
   "outputs": [
    {
     "data": {
      "text/plain": [
       "dict_keys(['firstName', 'lastName', 'age', 'email', 'department', 'skills', 'address'])"
      ]
     },
     "execution_count": 27,
     "metadata": {},
     "output_type": "execute_result"
    }
   ],
   "source": [
    "Employee_data['E001'].keys()"
   ]
  },
  {
   "cell_type": "code",
   "execution_count": 33,
   "id": "7bead22c",
   "metadata": {},
   "outputs": [],
   "source": [
    "                \n",
    "Weather_data = {\n",
    "   \"lat\":33.44,\n",
    "   \"lon\":-94.04,\n",
    "   \"timezone\":\"America/Chicago\",\n",
    "   \"timezone_offset\":-18000,\n",
    "   \"current\":{\n",
    "      \"dt\":1684929490,\n",
    "      \"sunrise\":1684926645,\n",
    "      \"sunset\":1684977332,\n",
    "      \"temp\":292.55,\n",
    "      \"feels_like\":292.87,\n",
    "      \"pressure\":1014,\n",
    "      \"humidity\":89,\n",
    "      \"dew_point\":290.69,\n",
    "      \"uvi\":0.16,\n",
    "      \"clouds\":53,\n",
    "      \"visibility\":10000,\n",
    "      \"wind_speed\":3.13,\n",
    "      \"wind_deg\":93,\n",
    "      \"wind_gust\":6.71,\n",
    "      \"weather\":[\n",
    "         {\n",
    "            \"id\":803,\n",
    "            \"main\":\"Clouds\",\n",
    "            \"description\":\"broken clouds\",\n",
    "            \"icon\":\"04d\"\n",
    "         }\n",
    "      ]\n",
    "   },\n",
    "   \"minutely\":[\n",
    "      {\n",
    "         \"dt\":1684929540,\n",
    "         \"precipitation\":0\n",
    "      },\n",
    "      ...\n",
    "   ],\n",
    "   \"hourly\":[\n",
    "      {\n",
    "         \"dt\":1684926000,\n",
    "         \"temp\":292.01,\n",
    "         \"feels_like\":292.33,\n",
    "         \"pressure\":1014,\n",
    "         \"humidity\":91,\n",
    "         \"dew_point\":290.51,\n",
    "         \"uvi\":0,\n",
    "         \"clouds\":54,\n",
    "         \"visibility\":10000,\n",
    "         \"wind_speed\":2.58,\n",
    "         \"wind_deg\":86,\n",
    "         \"wind_gust\":5.88,\n",
    "         \"weather\":[\n",
    "            {\n",
    "               \"id\":803,\n",
    "               \"main\":\"Clouds\",\n",
    "               \"description\":\"broken clouds\",\n",
    "               \"icon\":\"04n\"\n",
    "            }\n",
    "         ],\n",
    "         \"pop\":0.15\n",
    "      },\n",
    "      ...\n",
    "   ],\n",
    "   \"daily\":[\n",
    "      {\n",
    "         \"dt\":1684951200,\n",
    "         \"sunrise\":1684926645,\n",
    "         \"sunset\":1684977332,\n",
    "         \"moonrise\":1684941060,\n",
    "         \"moonset\":1684905480,\n",
    "         \"moon_phase\":0.16,\n",
    "         \"summary\":\"Expect a day of partly cloudy with rain\",\n",
    "         \"temp\":{\n",
    "            \"day\":299.03,\n",
    "            \"min\":290.69,\n",
    "            \"max\":300.35,\n",
    "            \"night\":291.45,\n",
    "            \"eve\":297.51,\n",
    "            \"morn\":292.55\n",
    "         },\n",
    "         \"feels_like\":{\n",
    "            \"day\":299.21,\n",
    "            \"night\":291.37,\n",
    "            \"eve\":297.86,\n",
    "            \"morn\":292.87\n",
    "         },\n",
    "         \"pressure\":1016,\n",
    "         \"humidity\":59,\n",
    "         \"dew_point\":290.48,\n",
    "         \"wind_speed\":3.98,\n",
    "         \"wind_deg\":76,\n",
    "         \"wind_gust\":8.92,\n",
    "         \"weather\":[\n",
    "            {\n",
    "               \"id\":500,\n",
    "               \"main\":\"Rain\",\n",
    "               \"description\":\"light rain\",\n",
    "               \"icon\":\"10d\"\n",
    "            }\n",
    "         ],\n",
    "         \"clouds\":92,\n",
    "         \"pop\":0.47,\n",
    "         \"rain\":0.15,\n",
    "         \"uvi\":9.23\n",
    "      },\n",
    "      ...\n",
    "   ],\n",
    "    \"alerts\": [\n",
    "    {\n",
    "      \"sender_name\": \"NWS Philadelphia - Mount Holly (New Jersey, Delaware, Southeastern Pennsylvania)\",\n",
    "      \"event\": \"Small Craft Advisory\",\n",
    "      \"start\": 1684952747,\n",
    "      \"end\": 1684988747,\n",
    "      \"description\": \"...SMALL CRAFT ADVISORY REMAINS IN EFFECT FROM 5 PM THIS\\nAFTERNOON TO 3 AM EST FRIDAY...\\n* WHAT...North winds 15 to 20 kt with gusts up to 25 kt and seas\\n3 to 5 ft expected.\\n* WHERE...Coastal waters from Little Egg Inlet to Great Egg\\nInlet NJ out 20 nm, Coastal waters from Great Egg Inlet to\\nCape May NJ out 20 nm and Coastal waters from Manasquan Inlet\\nto Little Egg Inlet NJ out 20 nm.\\n* WHEN...From 5 PM this afternoon to 3 AM EST Friday.\\n* IMPACTS...Conditions will be hazardous to small craft.\",\n",
    "      \"tags\": [\n",
    "\n",
    "      ]\n",
    "    },\n",
    "    ...\n",
    "  ]\n",
    "}\n",
    "              "
   ]
  },
  {
   "cell_type": "code",
   "execution_count": null,
   "id": "e463d7c4",
   "metadata": {},
   "outputs": [
    {
     "data": {
      "text/plain": [
       "dict_keys(['lat', 'lon', 'timezone', 'timezone_offset', 'current', 'minutely', 'hourly', 'daily', 'alerts'])"
      ]
     },
     "execution_count": 34,
     "metadata": {},
     "output_type": "execute_result"
    }
   ],
   "source": [
    "Weather_data.keys()"
   ]
  },
  {
   "cell_type": "code",
   "execution_count": 37,
   "id": "61927358",
   "metadata": {},
   "outputs": [
    {
     "data": {
      "text/plain": [
       "33.44"
      ]
     },
     "execution_count": 37,
     "metadata": {},
     "output_type": "execute_result"
    }
   ],
   "source": [
    "Weather_data['lat']"
   ]
  },
  {
   "cell_type": "code",
   "execution_count": 38,
   "id": "692616e7",
   "metadata": {},
   "outputs": [
    {
     "data": {
      "text/plain": [
       "{'dt': 1684929490,\n",
       " 'sunrise': 1684926645,\n",
       " 'sunset': 1684977332,\n",
       " 'temp': 292.55,\n",
       " 'feels_like': 292.87,\n",
       " 'pressure': 1014,\n",
       " 'humidity': 89,\n",
       " 'dew_point': 290.69,\n",
       " 'uvi': 0.16,\n",
       " 'clouds': 53,\n",
       " 'visibility': 10000,\n",
       " 'wind_speed': 3.13,\n",
       " 'wind_deg': 93,\n",
       " 'wind_gust': 6.71,\n",
       " 'weather': [{'id': 803,\n",
       "   'main': 'Clouds',\n",
       "   'description': 'broken clouds',\n",
       "   'icon': '04d'}]}"
      ]
     },
     "execution_count": 38,
     "metadata": {},
     "output_type": "execute_result"
    }
   ],
   "source": [
    "Weather_data['current']"
   ]
  },
  {
   "cell_type": "code",
   "execution_count": 39,
   "id": "a09d3272",
   "metadata": {},
   "outputs": [
    {
     "data": {
      "text/plain": [
       "-18000"
      ]
     },
     "execution_count": 39,
     "metadata": {},
     "output_type": "execute_result"
    }
   ],
   "source": [
    "Weather_data['timezone_offset']"
   ]
  },
  {
   "cell_type": "code",
   "execution_count": 40,
   "id": "b83d66b7",
   "metadata": {},
   "outputs": [
    {
     "data": {
      "text/plain": [
       "-94.04"
      ]
     },
     "execution_count": 40,
     "metadata": {},
     "output_type": "execute_result"
    }
   ],
   "source": [
    "Weather_data['lon']"
   ]
  },
  {
   "cell_type": "code",
   "execution_count": 41,
   "id": "9ab31b34",
   "metadata": {},
   "outputs": [
    {
     "data": {
      "text/plain": [
       "dict_values([33.44, -94.04, 'America/Chicago', -18000, {'dt': 1684929490, 'sunrise': 1684926645, 'sunset': 1684977332, 'temp': 292.55, 'feels_like': 292.87, 'pressure': 1014, 'humidity': 89, 'dew_point': 290.69, 'uvi': 0.16, 'clouds': 53, 'visibility': 10000, 'wind_speed': 3.13, 'wind_deg': 93, 'wind_gust': 6.71, 'weather': [{'id': 803, 'main': 'Clouds', 'description': 'broken clouds', 'icon': '04d'}]}, [{'dt': 1684929540, 'precipitation': 0}, Ellipsis], [{'dt': 1684926000, 'temp': 292.01, 'feels_like': 292.33, 'pressure': 1014, 'humidity': 91, 'dew_point': 290.51, 'uvi': 0, 'clouds': 54, 'visibility': 10000, 'wind_speed': 2.58, 'wind_deg': 86, 'wind_gust': 5.88, 'weather': [{'id': 803, 'main': 'Clouds', 'description': 'broken clouds', 'icon': '04n'}], 'pop': 0.15}, Ellipsis], [{'dt': 1684951200, 'sunrise': 1684926645, 'sunset': 1684977332, 'moonrise': 1684941060, 'moonset': 1684905480, 'moon_phase': 0.16, 'summary': 'Expect a day of partly cloudy with rain', 'temp': {'day': 299.03, 'min': 290.69, 'max': 300.35, 'night': 291.45, 'eve': 297.51, 'morn': 292.55}, 'feels_like': {'day': 299.21, 'night': 291.37, 'eve': 297.86, 'morn': 292.87}, 'pressure': 1016, 'humidity': 59, 'dew_point': 290.48, 'wind_speed': 3.98, 'wind_deg': 76, 'wind_gust': 8.92, 'weather': [{'id': 500, 'main': 'Rain', 'description': 'light rain', 'icon': '10d'}], 'clouds': 92, 'pop': 0.47, 'rain': 0.15, 'uvi': 9.23}, Ellipsis], [{'sender_name': 'NWS Philadelphia - Mount Holly (New Jersey, Delaware, Southeastern Pennsylvania)', 'event': 'Small Craft Advisory', 'start': 1684952747, 'end': 1684988747, 'description': '...SMALL CRAFT ADVISORY REMAINS IN EFFECT FROM 5 PM THIS\\nAFTERNOON TO 3 AM EST FRIDAY...\\n* WHAT...North winds 15 to 20 kt with gusts up to 25 kt and seas\\n3 to 5 ft expected.\\n* WHERE...Coastal waters from Little Egg Inlet to Great Egg\\nInlet NJ out 20 nm, Coastal waters from Great Egg Inlet to\\nCape May NJ out 20 nm and Coastal waters from Manasquan Inlet\\nto Little Egg Inlet NJ out 20 nm.\\n* WHEN...From 5 PM this afternoon to 3 AM EST Friday.\\n* IMPACTS...Conditions will be hazardous to small craft.', 'tags': []}, Ellipsis]])"
      ]
     },
     "execution_count": 41,
     "metadata": {},
     "output_type": "execute_result"
    }
   ],
   "source": [
    "Weather_data.values()"
   ]
  },
  {
   "cell_type": "code",
   "execution_count": 42,
   "id": "44adf9a7",
   "metadata": {},
   "outputs": [
    {
     "data": {
      "text/plain": [
       "dict_items([('lat', 33.44), ('lon', -94.04), ('timezone', 'America/Chicago'), ('timezone_offset', -18000), ('current', {'dt': 1684929490, 'sunrise': 1684926645, 'sunset': 1684977332, 'temp': 292.55, 'feels_like': 292.87, 'pressure': 1014, 'humidity': 89, 'dew_point': 290.69, 'uvi': 0.16, 'clouds': 53, 'visibility': 10000, 'wind_speed': 3.13, 'wind_deg': 93, 'wind_gust': 6.71, 'weather': [{'id': 803, 'main': 'Clouds', 'description': 'broken clouds', 'icon': '04d'}]}), ('minutely', [{'dt': 1684929540, 'precipitation': 0}, Ellipsis]), ('hourly', [{'dt': 1684926000, 'temp': 292.01, 'feels_like': 292.33, 'pressure': 1014, 'humidity': 91, 'dew_point': 290.51, 'uvi': 0, 'clouds': 54, 'visibility': 10000, 'wind_speed': 2.58, 'wind_deg': 86, 'wind_gust': 5.88, 'weather': [{'id': 803, 'main': 'Clouds', 'description': 'broken clouds', 'icon': '04n'}], 'pop': 0.15}, Ellipsis]), ('daily', [{'dt': 1684951200, 'sunrise': 1684926645, 'sunset': 1684977332, 'moonrise': 1684941060, 'moonset': 1684905480, 'moon_phase': 0.16, 'summary': 'Expect a day of partly cloudy with rain', 'temp': {'day': 299.03, 'min': 290.69, 'max': 300.35, 'night': 291.45, 'eve': 297.51, 'morn': 292.55}, 'feels_like': {'day': 299.21, 'night': 291.37, 'eve': 297.86, 'morn': 292.87}, 'pressure': 1016, 'humidity': 59, 'dew_point': 290.48, 'wind_speed': 3.98, 'wind_deg': 76, 'wind_gust': 8.92, 'weather': [{'id': 500, 'main': 'Rain', 'description': 'light rain', 'icon': '10d'}], 'clouds': 92, 'pop': 0.47, 'rain': 0.15, 'uvi': 9.23}, Ellipsis]), ('alerts', [{'sender_name': 'NWS Philadelphia - Mount Holly (New Jersey, Delaware, Southeastern Pennsylvania)', 'event': 'Small Craft Advisory', 'start': 1684952747, 'end': 1684988747, 'description': '...SMALL CRAFT ADVISORY REMAINS IN EFFECT FROM 5 PM THIS\\nAFTERNOON TO 3 AM EST FRIDAY...\\n* WHAT...North winds 15 to 20 kt with gusts up to 25 kt and seas\\n3 to 5 ft expected.\\n* WHERE...Coastal waters from Little Egg Inlet to Great Egg\\nInlet NJ out 20 nm, Coastal waters from Great Egg Inlet to\\nCape May NJ out 20 nm and Coastal waters from Manasquan Inlet\\nto Little Egg Inlet NJ out 20 nm.\\n* WHEN...From 5 PM this afternoon to 3 AM EST Friday.\\n* IMPACTS...Conditions will be hazardous to small craft.', 'tags': []}, Ellipsis])])"
      ]
     },
     "execution_count": 42,
     "metadata": {},
     "output_type": "execute_result"
    }
   ],
   "source": [
    "Weather_data.items()"
   ]
  },
  {
   "cell_type": "code",
   "execution_count": 47,
   "id": "72afb08d",
   "metadata": {},
   "outputs": [
    {
     "data": {
      "text/plain": [
       "33.44"
      ]
     },
     "execution_count": 47,
     "metadata": {},
     "output_type": "execute_result"
    }
   ],
   "source": [
    "Weather_data.pop('lat')"
   ]
  },
  {
   "cell_type": "code",
   "execution_count": 48,
   "id": "6fdf6cc7",
   "metadata": {},
   "outputs": [
    {
     "data": {
      "text/plain": [
       "dict_keys(['lon', 'timezone', 'timezone_offset', 'current', 'minutely', 'hourly', 'daily', 'alerts'])"
      ]
     },
     "execution_count": 48,
     "metadata": {},
     "output_type": "execute_result"
    }
   ],
   "source": [
    "Weather_data.keys()"
   ]
  },
  {
   "cell_type": "code",
   "execution_count": 49,
   "id": "47f5d05b",
   "metadata": {},
   "outputs": [
    {
     "data": {
      "text/plain": [
       "('alerts',\n",
       " [{'sender_name': 'NWS Philadelphia - Mount Holly (New Jersey, Delaware, Southeastern Pennsylvania)',\n",
       "   'event': 'Small Craft Advisory',\n",
       "   'start': 1684952747,\n",
       "   'end': 1684988747,\n",
       "   'description': '...SMALL CRAFT ADVISORY REMAINS IN EFFECT FROM 5 PM THIS\\nAFTERNOON TO 3 AM EST FRIDAY...\\n* WHAT...North winds 15 to 20 kt with gusts up to 25 kt and seas\\n3 to 5 ft expected.\\n* WHERE...Coastal waters from Little Egg Inlet to Great Egg\\nInlet NJ out 20 nm, Coastal waters from Great Egg Inlet to\\nCape May NJ out 20 nm and Coastal waters from Manasquan Inlet\\nto Little Egg Inlet NJ out 20 nm.\\n* WHEN...From 5 PM this afternoon to 3 AM EST Friday.\\n* IMPACTS...Conditions will be hazardous to small craft.',\n",
       "   'tags': []},\n",
       "  Ellipsis])"
      ]
     },
     "execution_count": 49,
     "metadata": {},
     "output_type": "execute_result"
    }
   ],
   "source": [
    "Weather_data.popitem()"
   ]
  },
  {
   "cell_type": "code",
   "execution_count": 50,
   "id": "44baf05c",
   "metadata": {},
   "outputs": [
    {
     "data": {
      "text/plain": [
       "dict_keys(['lon', 'timezone', 'timezone_offset', 'current', 'minutely', 'hourly', 'daily'])"
      ]
     },
     "execution_count": 50,
     "metadata": {},
     "output_type": "execute_result"
    }
   ],
   "source": [
    "Weather_data.keys()"
   ]
  }
 ],
 "metadata": {
  "kernelspec": {
   "display_name": "Python 3",
   "language": "python",
   "name": "python3"
  },
  "language_info": {
   "codemirror_mode": {
    "name": "ipython",
    "version": 3
   },
   "file_extension": ".py",
   "mimetype": "text/x-python",
   "name": "python",
   "nbconvert_exporter": "python",
   "pygments_lexer": "ipython3",
   "version": "3.13.5"
  }
 },
 "nbformat": 4,
 "nbformat_minor": 5
}
