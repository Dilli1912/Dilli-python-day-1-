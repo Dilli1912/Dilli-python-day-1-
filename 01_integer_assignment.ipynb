{
 "cells": [
  {
   "cell_type": "code",
   "execution_count": 2,
   "id": "7d24b482",
   "metadata": {},
   "outputs": [
    {
     "name": "stdout",
     "output_type": "stream",
     "text": [
      "Calculate the sum of first 5 even numbers\n",
      "First 5 even numbers: [2, 4, 6, 8, 10]\n",
      "Sum: 30\n",
      "//////////////////////////////////////////////////\n"
     ]
    }
   ],
   "source": [
    "# INTEGER DATATYPE ASSIGNMENTprint(\"SOLVED EXAMPLE:\")\n",
    "print(\"Calculate the sum of first 5 even numbers\")\n",
    "first_5_even = [2, 4, 6, 8, 10]\n",
    "sum_even = sum(first_5_even)\n",
    "print(f\"First 5 even numbers: {first_5_even}\")\n",
    "print(f\"Sum: {sum_even}\")\n",
    "print(\"/\" * 50)\n",
    "# ===========================\n",
    "\n"
   ]
  },
  {
   "cell_type": "code",
   "execution_count": 2,
   "id": "dc86d847",
   "metadata": {},
   "outputs": [
    {
     "name": "stdout",
     "output_type": "stream",
     "text": [
      "Questtion 1: The product of the first 10 natural numbers is 3628800\n"
     ]
    }
   ],
   "source": [
    "\n",
    "# Question 1: Calculate the product of first 10 natural numbers\n",
    "# print(\"Question 1: Calculate the product of first 10 natural numbers\")\n",
    "product = 1\n",
    "for i in range(1,11):\n",
    "    product *=i\n",
    "print(f\"Questtion 1: The product of the first 10 natural numbers is {product}\")"
   ]
  },
  {
   "cell_type": "code",
   "execution_count": 4,
   "id": "571fe1c9",
   "metadata": {},
   "outputs": [
    {
     "name": "stdout",
     "output_type": "stream",
     "text": [
      "remainder when 156 is divided by 7 is 2\n"
     ]
    }
   ],
   "source": [
    "# Question 2: Find the remainder when 156 is divided by 7\n",
    "#print(\"\\nQuestion 2: Find the remainder when 156 is divided by 7\")\n",
    "X=156%7\n",
    "print(f\"remainder when 156 is divided by 7 is\",X)"
   ]
  },
  {
   "cell_type": "code",
   "execution_count": 6,
   "id": "220eb780",
   "metadata": {},
   "outputs": [
    {
     "name": "stdout",
     "output_type": "stream",
     "text": [
      "25\n",
      "Square of a number N is 625\n"
     ]
    }
   ],
   "source": [
    "# Question 3: Calculate the square of 25\n",
    "#print(\"\\nQuestion 3: Calculate the square of 25\")\n",
    "N=int(input())\n",
    "print(N)\n",
    "S=N**2\n",
    "print(f\"Square of a number N is\",S)"
   ]
  },
  {
   "cell_type": "code",
   "execution_count": 7,
   "id": "25e2aaa2",
   "metadata": {},
   "outputs": [
    {
     "name": "stdout",
     "output_type": "stream",
     "text": [
      "125\n",
      "cube root of a number N is 5.0\n"
     ]
    }
   ],
   "source": [
    "# Question 4: Find the cube root of 125\n",
    "#print(\"\\nQuestion 4: Find the cube root of 125\")\n",
    "N=int(input())\n",
    "print(N)\n",
    "S=N **(1/3)\n",
    "print(f\"cube root of a number N is\",S)"
   ]
  },
  {
   "cell_type": "code",
   "execution_count": 1,
   "id": "ba14a804",
   "metadata": {},
   "outputs": [
    {
     "name": "stdout",
     "output_type": "stream",
     "text": [
      "calculate the sum of digits in given number 12345 15\n"
     ]
    }
   ],
   "source": [
    "# Question 5: Calculate the sum of digits in number 12345\n",
    "# print(\"\\nQuestion 5: Calculate the sum of digits in number 12345\")\n",
    "X=12345\n",
    "Z=0\n",
    "for Y in str(X):\n",
    "    Z += int(Y)\n",
    "print(f\"calculate the sum of digits in given number 12345\",Z)"
   ]
  },
  {
   "cell_type": "code",
   "execution_count": 44,
   "id": "50a40cce",
   "metadata": {},
   "outputs": [
    {
     "name": "stdout",
     "output_type": "stream",
     "text": [
      "X is a prime number\n",
      "Value of X is 97\n"
     ]
    }
   ],
   "source": [
    "# Question 6: Check if 97 is a prime number\n",
    "# print(\"\\nQuestion 6: Check if 97 is a prime number\")\n",
    "X=int(input())\n",
    "if X%2==0:\n",
    "    print(\"X is a not a prime number\")\n",
    "else:\n",
    "        print(\"X is a prime number\")\n",
    "print(\"Value of X is\",X)\n"
   ]
  },
  {
   "cell_type": "code",
   "execution_count": 3,
   "id": "f93ab144",
   "metadata": {},
   "outputs": [
    {
     "name": "stdout",
     "output_type": "stream",
     "text": [
      "the factorial of X is 40320\n",
      "value entered 8\n"
     ]
    }
   ],
   "source": [
    "# Question 7: Find the factorial of 8\n",
    "# print(\"\\nQuestion 7: Find the factorial of 8\")\n",
    "X=int(input())\n",
    "F=1\n",
    "for i in range(1,X+1):\n",
    "   F*=i\n",
    "print(\"the factorial of X is\",F)\n",
    "print(\"value entered\",X)"
   ]
  },
  {
   "cell_type": "code",
   "execution_count": 69,
   "id": "9d17a0aa",
   "metadata": {},
   "outputs": [
    {
     "name": "stdout",
     "output_type": "stream",
     "text": [
      "Avergae of numbers 15,23,31,42,56 is 33.4\n"
     ]
    }
   ],
   "source": [
    "# Question 8: Calculate the average of numbers: 15, 23, 31, 42, 56\n",
    "# print(\"\\nQuestion 8: Calculate the average of numbers: 15, 23, 31, 42, 56\")\n",
    "X=[15,23,31,42,56]\n",
    "Y=len(X)\n",
    "Z=sum(X)\n",
    "A=Z/Y\n",
    "print(\"Avergae of numbers 15,23,31,42,56 is\",A)"
   ]
  },
  {
   "cell_type": "code",
   "execution_count": 5,
   "id": "7f15ed3e",
   "metadata": {},
   "outputs": [
    {
     "name": "stdout",
     "output_type": "stream",
     "text": [
      "the factors of 48 and 36 is 12\n",
      "gcd of  48 and 36 is 12\n"
     ]
    }
   ],
   "source": [
    "# Question 9: Find the greatest common divisor (GCD) of 48 and 36\n",
    "# print(\"\\nQuestion 9: Find the greatest common divisor (GCD) of 48 and 36\")\n",
    "X=48\n",
    "Y=36\n",
    "for i in range(1,Y+1):\n",
    "    if X%i==0 and Y%i==0:\n",
    "        Z=i\n",
    "print(f\"the factors of 48 and 36 is\",Z)\n",
    "print(\"gcd of  48 and 36 is\",Z)\n"
   ]
  },
  {
   "cell_type": "code",
   "execution_count": 110,
   "id": "514dea1a",
   "metadata": {},
   "outputs": [
    {
     "name": "stdout",
     "output_type": "stream",
     "text": [
      "Sum of first 20 odd numbers 400\n"
     ]
    }
   ],
   "source": [
    "# Question 10: Calculate the sum of first 20 odd numbers\n",
    "# print(\"\\nQuestion 10: Calculate the sum of first 20 odd numbers\")\n",
    "\n",
    "Y=0\n",
    "for i in range(1,40,2):\n",
    "    Y+=i\n",
    "print(\"Sum of first 20 odd numbers\",Y)"
   ]
  }
 ],
 "metadata": {
  "kernelspec": {
   "display_name": "Python 3",
   "language": "python",
   "name": "python3"
  },
  "language_info": {
   "codemirror_mode": {
    "name": "ipython",
    "version": 3
   },
   "file_extension": ".py",
   "mimetype": "text/x-python",
   "name": "python",
   "nbconvert_exporter": "python",
   "pygments_lexer": "ipython3",
   "version": "3.13.5"
  }
 },
 "nbformat": 4,
 "nbformat_minor": 5
}
