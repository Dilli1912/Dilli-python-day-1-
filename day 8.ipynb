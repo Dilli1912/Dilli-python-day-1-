{
 "cells": [
  {
   "cell_type": "code",
   "execution_count": 1,
   "id": "2467e3f0",
   "metadata": {},
   "outputs": [
    {
     "name": "stdout",
     "output_type": "stream",
     "text": [
      "d\n",
      "da\n",
      "dat\n",
      "data\n"
     ]
    }
   ],
   "source": [
    "X=\"data\"\n",
    "var=1\n",
    "while var<5:\n",
    "    print(X[0:var])\n",
    "    var=var+1"
   ]
  },
  {
   "cell_type": "code",
   "execution_count": 3,
   "id": "d1319eb1",
   "metadata": {},
   "outputs": [
    {
     "name": "stdout",
     "output_type": "stream",
     "text": [
      "*\n",
      "**\n",
      "***\n",
      "****\n",
      "*****\n"
     ]
    }
   ],
   "source": [
    "X=5\n",
    "Y=1\n",
    "while Y<6:\n",
    "    print(Y*\"*\")\n",
    "    Y=Y+1"
   ]
  },
  {
   "cell_type": "code",
   "execution_count": null,
   "id": "0c0f7974",
   "metadata": {},
   "outputs": [
    {
     "name": "stdout",
     "output_type": "stream",
     "text": [
      "*\n",
      "**\n",
      "***\n",
      "****\n",
      "*****\n",
      "******\n",
      "*****\n",
      "****\n",
      "***\n",
      "**\n",
      "*\n"
     ]
    }
   ],
   "source": [
    "X=5\n",
    "Y=1\n",
    "Z=6\n",
    "while Y<6:\n",
    "    print(Y*\"*\")\n",
    "    Y=Y+1\n",
    "while Z>0:\n",
    "      print(Z*\"*\")\n",
    "      Z=Z-1"
   ]
  },
  {
   "cell_type": "code",
   "execution_count": 13,
   "id": "20ed0e32",
   "metadata": {},
   "outputs": [
    {
     "name": "stdout",
     "output_type": "stream",
     "text": [
      "*****\n",
      "****\n",
      "***\n",
      "**\n",
      "*\n",
      "*\n",
      "**\n",
      "***\n",
      "****\n",
      "*****\n"
     ]
    }
   ],
   "source": [
    "X=5\n",
    "Y=1\n",
    "Z=5\n",
    "while Z>0:\n",
    "      print(Z*\"*\")\n",
    "      Z=Z-1\n",
    "while Y<6:\n",
    "    print(Y*\"*\")\n",
    "    Y=Y+1"
   ]
  },
  {
   "cell_type": "code",
   "execution_count": 18,
   "id": "82df92c1",
   "metadata": {},
   "outputs": [
    {
     "name": "stdout",
     "output_type": "stream",
     "text": [
      "2220 2775\n"
     ]
    }
   ],
   "source": [
    "X=[111,222,333,444,555,666,777,888,999]\n",
    "var=0\n",
    "even_sum=0\n",
    "odd_sum=0\n",
    "while var<9:\n",
    "    if X[var]%2==0:\n",
    "        even_sum=even_sum+X[var]\n",
    "    else:\n",
    "        odd_sum=odd_sum+X[var]\n",
    "    var=var+1\n",
    "print(even_sum,odd_sum)"
   ]
  },
  {
   "cell_type": "code",
   "execution_count": 44,
   "id": "68ab2dda",
   "metadata": {},
   "outputs": [
    {
     "name": "stdout",
     "output_type": "stream",
     "text": [
      "0,1,2,3,4,5,6,7,8,9,10,11,12,13,14,15,16,17,18,19,20,21,22,23,24,26,27,28,29,"
     ]
    }
   ],
   "source": [
    "for i in range(0,30):\n",
    "    if i==25:\n",
    "       continue    \n",
    "    print(i,end=\",\")\n",
    "    "
   ]
  },
  {
   "cell_type": "code",
   "execution_count": 53,
   "id": "36ea78cf",
   "metadata": {},
   "outputs": [
    {
     "name": "stdout",
     "output_type": "stream",
     "text": [
      "0 0\n",
      "0 1\n",
      "1 0\n",
      "1 1\n",
      "2 0\n",
      "2 1\n",
      "3 0\n",
      "3 1\n",
      "4 0\n",
      "4 1\n"
     ]
    }
   ],
   "source": [
    "for i in range(0,5):\n",
    "   for j in range(0,5):\n",
    "    if j==2:\n",
    "      break\n",
    "    print(i,j)\n"
   ]
  },
  {
   "cell_type": "code",
   "execution_count": 59,
   "id": "bf3bc634",
   "metadata": {},
   "outputs": [
    {
     "name": "stdout",
     "output_type": "stream",
     "text": [
      "0 0\n",
      "0 1\n",
      "0 2\n",
      "1 0\n",
      "1 1\n",
      "1 2\n",
      "2 0\n",
      "2 1\n",
      "2 2\n",
      "3 0\n",
      "3 1\n",
      "3 2\n",
      "4 0\n",
      "4 1\n",
      "4 2\n"
     ]
    }
   ],
   "source": [
    "for i in range(0,5):\n",
    "   for j in range(0,5):\n",
    "    print(i,j)\n",
    "    if j==2:\n",
    "        break\n"
   ]
  },
  {
   "cell_type": "code",
   "execution_count": 67,
   "id": "95677a83",
   "metadata": {},
   "outputs": [
    {
     "name": "stdout",
     "output_type": "stream",
     "text": [
      "0 0\n",
      "0 1\n",
      "0 2\n",
      "0 3\n",
      "0 4\n",
      "1 0\n",
      "1 1\n",
      "1 2\n",
      "1 3\n",
      "1 4\n",
      "2 0\n",
      "2 1\n",
      "2 2\n",
      "2 3\n",
      "2 4\n",
      "3 0\n",
      "3 1\n",
      "3 2\n",
      "3 3\n",
      "3 4\n",
      "4 0\n",
      "4 1\n",
      "4 2\n",
      "4 3\n",
      "4 4\n"
     ]
    }
   ],
   "source": [
    "for i in range(0,5):\n",
    "   for j in range(0,5):\n",
    "    print(i,j)\n",
    "    if j==2:\n",
    "     continue\n"
   ]
  },
  {
   "cell_type": "code",
   "execution_count": 68,
   "id": "25a00c29",
   "metadata": {},
   "outputs": [
    {
     "name": "stdout",
     "output_type": "stream",
     "text": [
      "0 0\n",
      "0 1\n",
      "0 3\n",
      "0 4\n",
      "1 0\n",
      "1 1\n",
      "1 3\n",
      "1 4\n",
      "2 0\n",
      "2 1\n",
      "2 3\n",
      "2 4\n",
      "3 0\n",
      "3 1\n",
      "3 3\n",
      "3 4\n",
      "4 0\n",
      "4 1\n",
      "4 3\n",
      "4 4\n"
     ]
    }
   ],
   "source": [
    "for i in range(0,5):\n",
    "   for j in range(0,5):\n",
    "    \n",
    "    if j==2:\n",
    "     continue\n",
    "    print(i,j)"
   ]
  },
  {
   "cell_type": "code",
   "execution_count": null,
   "id": "55c506d6",
   "metadata": {},
   "outputs": [
    {
     "name": "stdout",
     "output_type": "stream",
     "text": [
      "['d', 'd']\n",
      "['d', 'a']\n",
      "['a', 'd']\n",
      "['a', 'a']\n",
      "['t', 'd']\n",
      "['t', 'a']\n",
      "['a', 'd']\n",
      "['a', 'a']\n",
      "['s', 'd']\n",
      "['s', 'a']\n",
      "['c', 'd']\n",
      "['c', 'a']\n",
      "['i', 'd']\n",
      "['i', 'a']\n",
      "['e', 'd']\n",
      "['e', 'a']\n",
      "['n', 'd']\n",
      "['n', 'a']\n",
      "['c', 'd']\n",
      "['c', 'a']\n",
      "['e', 'd']\n",
      "['e', 'a']\n"
     ]
    }
   ],
   "source": [
    "for i in \"datascience\":\n",
    "    for j in \"data\":\n",
    "        if j==\"t\":\n",
    "            break\n",
    "        print([i,j])"
   ]
  },
  {
   "cell_type": "code",
   "execution_count": 72,
   "id": "81728543",
   "metadata": {},
   "outputs": [],
   "source": [
    "for i in \"datascience\":\n",
    "    for j in \"data\":\n",
    "        if j==\"t\":\n",
    "            print([i,j])\n",
    "        break"
   ]
  },
  {
   "cell_type": "code",
   "execution_count": 77,
   "id": "75202b8f",
   "metadata": {},
   "outputs": [
    {
     "name": "stdout",
     "output_type": "stream",
     "text": [
      "['d', 't']\n",
      "['a', 't']\n",
      "['t', 't']\n",
      "['a', 't']\n",
      "['s', 't']\n",
      "['c', 't']\n",
      "['i', 't']\n",
      "['e', 't']\n",
      "['n', 't']\n",
      "['c', 't']\n",
      "['e', 't']\n"
     ]
    }
   ],
   "source": [
    "for i in \"datascience\":\n",
    "    for j in \"data\":\n",
    "        if j==\"t\":\n",
    "            print([i,j])\n",
    "            break"
   ]
  },
  {
   "cell_type": "code",
   "execution_count": 79,
   "id": "5ff5697e",
   "metadata": {},
   "outputs": [
    {
     "name": "stdout",
     "output_type": "stream",
     "text": [
      "['d', 'd']\n",
      "['d', 'a']\n",
      "['d', 'a']\n",
      "['a', 'd']\n",
      "['a', 'a']\n",
      "['a', 'a']\n",
      "['t', 'd']\n",
      "['t', 'a']\n",
      "['t', 'a']\n",
      "['a', 'd']\n",
      "['a', 'a']\n",
      "['a', 'a']\n",
      "['s', 'd']\n",
      "['s', 'a']\n",
      "['s', 'a']\n",
      "['c', 'd']\n",
      "['c', 'a']\n",
      "['c', 'a']\n",
      "['i', 'd']\n",
      "['i', 'a']\n",
      "['i', 'a']\n",
      "['e', 'd']\n",
      "['e', 'a']\n",
      "['e', 'a']\n",
      "['n', 'd']\n",
      "['n', 'a']\n",
      "['n', 'a']\n",
      "['c', 'd']\n",
      "['c', 'a']\n",
      "['c', 'a']\n",
      "['e', 'd']\n",
      "['e', 'a']\n",
      "['e', 'a']\n"
     ]
    }
   ],
   "source": [
    "for i in \"datascience\":\n",
    "    for j in \"data\":\n",
    "        if j==\"t\":\n",
    "          continue\n",
    "        print([i,j])\n",
    "        "
   ]
  },
  {
   "cell_type": "code",
   "execution_count": 87,
   "id": "f16a6d32",
   "metadata": {},
   "outputs": [
    {
     "name": "stdout",
     "output_type": "stream",
     "text": [
      "0 0\n",
      "2 0\n",
      "4 0\n",
      "6 0\n",
      "8 0\n"
     ]
    }
   ],
   "source": [
    "for i in range(0,10):\n",
    "    for j in range(0,20,5):\n",
    "        if i%2==0:\n",
    "          print(i,j)\n",
    "        break\n",
    "\n",
    "    "
   ]
  },
  {
   "cell_type": "code",
   "execution_count": 88,
   "id": "7b6f7dd7",
   "metadata": {},
   "outputs": [
    {
     "name": "stdout",
     "output_type": "stream",
     "text": [
      "0 0\n",
      "0 5\n",
      "0 10\n",
      "0 15\n"
     ]
    }
   ],
   "source": [
    "for i in range(0,10):\n",
    "    for j in range(0,20,5):\n",
    "        if i%2==0:\n",
    "          print(i,j)\n",
    "    break"
   ]
  },
  {
   "cell_type": "code",
   "execution_count": 89,
   "id": "c7ab62eb",
   "metadata": {},
   "outputs": [
    {
     "name": "stdout",
     "output_type": "stream",
     "text": [
      "0 0\n",
      "0 5\n",
      "0 10\n",
      "0 15\n",
      "2 0\n",
      "2 5\n",
      "2 10\n",
      "2 15\n",
      "4 0\n",
      "4 5\n",
      "4 10\n",
      "4 15\n",
      "6 0\n",
      "6 5\n",
      "6 10\n",
      "6 15\n",
      "8 0\n",
      "8 5\n",
      "8 10\n",
      "8 15\n"
     ]
    }
   ],
   "source": [
    "for i in range(0,10):\n",
    "    for j in range(0,20,5):\n",
    "        if i%2==0:\n",
    "          print(i,j)\n",
    "        continue"
   ]
  },
  {
   "cell_type": "code",
   "execution_count": 92,
   "id": "1962d999",
   "metadata": {},
   "outputs": [
    {
     "name": "stdout",
     "output_type": "stream",
     "text": [
      "1 0\n",
      "1 5\n",
      "1 10\n",
      "1 15\n",
      "3 0\n",
      "3 5\n",
      "3 10\n",
      "3 15\n",
      "5 0\n",
      "5 5\n",
      "5 10\n",
      "5 15\n",
      "7 0\n",
      "7 5\n",
      "7 10\n",
      "7 15\n",
      "9 0\n",
      "9 5\n",
      "9 10\n",
      "9 15\n"
     ]
    }
   ],
   "source": [
    "for i in range(0,10):\n",
    "    for j in range(0,20,5):\n",
    "        if i%2==0:\n",
    "            continue\n",
    "        print(i,j)\n",
    "        "
   ]
  },
  {
   "cell_type": "code",
   "execution_count": 100,
   "id": "8aa466e4",
   "metadata": {},
   "outputs": [
    {
     "name": "stdout",
     "output_type": "stream",
     "text": [
      "0 0\n",
      "0 10\n"
     ]
    }
   ],
   "source": [
    "for i in range(0,10):\n",
    "    for j in range(0,20,5):\n",
    "        if j%2==0:\n",
    "          print(i,j)\n",
    "    break"
   ]
  },
  {
   "cell_type": "code",
   "execution_count": 102,
   "id": "0eef2d2f",
   "metadata": {},
   "outputs": [
    {
     "name": "stdout",
     "output_type": "stream",
     "text": [
      "0 0\n",
      "1 0\n",
      "2 0\n",
      "3 0\n",
      "4 0\n",
      "5 0\n",
      "6 0\n",
      "7 0\n",
      "8 0\n",
      "9 0\n"
     ]
    }
   ],
   "source": [
    "for i in range(0,10):\n",
    "    for j in range(0,20,5):\n",
    "        if j%2==0:\n",
    "          print(i,j)\n",
    "        break"
   ]
  },
  {
   "cell_type": "code",
   "execution_count": 110,
   "id": "db17a3af",
   "metadata": {},
   "outputs": [
    {
     "name": "stdout",
     "output_type": "stream",
     "text": [
      "0 5\n",
      "0 15\n",
      "1 5\n",
      "1 15\n",
      "2 5\n",
      "2 15\n",
      "3 5\n",
      "3 15\n",
      "4 5\n",
      "4 15\n",
      "5 5\n",
      "5 15\n",
      "6 5\n",
      "6 15\n",
      "7 5\n",
      "7 15\n",
      "8 5\n",
      "8 15\n",
      "9 5\n",
      "9 15\n"
     ]
    }
   ],
   "source": [
    "for i in range(0,10):\n",
    "    for j in range(0,20,5):\n",
    "        if j%2==0:\n",
    "           continue\n",
    "        print(i,j)"
   ]
  }
 ],
 "metadata": {
  "kernelspec": {
   "display_name": "Python 3",
   "language": "python",
   "name": "python3"
  },
  "language_info": {
   "codemirror_mode": {
    "name": "ipython",
    "version": 3
   },
   "file_extension": ".py",
   "mimetype": "text/x-python",
   "name": "python",
   "nbconvert_exporter": "python",
   "pygments_lexer": "ipython3",
   "version": "3.13.5"
  }
 },
 "nbformat": 4,
 "nbformat_minor": 5
}
