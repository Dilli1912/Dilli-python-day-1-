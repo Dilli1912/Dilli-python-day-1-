{
 "cells": [
  {
   "cell_type": "code",
   "execution_count": 3,
   "id": "a77c8872",
   "metadata": {},
   "outputs": [
    {
     "ename": "TypeError",
     "evalue": "unsupported operand type(s) for +: 'set' and 'set'",
     "output_type": "error",
     "traceback": [
      "\u001b[31m---------------------------------------------------------------------------\u001b[39m",
      "\u001b[31mTypeError\u001b[39m                                 Traceback (most recent call last)",
      "\u001b[36mCell\u001b[39m\u001b[36m \u001b[39m\u001b[32mIn[3]\u001b[39m\u001b[32m, line 2\u001b[39m\n\u001b[32m      1\u001b[39m X={\u001b[32m1\u001b[39m,\u001b[32m2\u001b[39m,\u001b[32m3\u001b[39m,\u001b[32m4\u001b[39m,\u001b[32m5\u001b[39m,\u001b[32m6\u001b[39m,\u001b[33m\"\u001b[39m\u001b[33md\u001b[39m\u001b[33m\"\u001b[39m,\u001b[33m\"\u001b[39m\u001b[33ma\u001b[39m\u001b[33m\"\u001b[39m,\u001b[33m\"\u001b[39m\u001b[33mt\u001b[39m\u001b[33m\"\u001b[39m,\u001b[33m\"\u001b[39m\u001b[33ma\u001b[39m\u001b[33m\"\u001b[39m}\n\u001b[32m----> \u001b[39m\u001b[32m2\u001b[39m \u001b[43mX\u001b[49m\u001b[43m+\u001b[49m\u001b[43mX\u001b[49m\n",
      "\u001b[31mTypeError\u001b[39m: unsupported operand type(s) for +: 'set' and 'set'"
     ]
    }
   ],
   "source": [
    "X={1,2,3,4,5,6,\"d\",\"a\",\"t\",\"a\"}\n",
    "X"
   ]
  },
  {
   "cell_type": "code",
   "execution_count": 4,
   "id": "de8d3e34",
   "metadata": {},
   "outputs": [
    {
     "ename": "TypeError",
     "evalue": "'set' object is not subscriptable",
     "output_type": "error",
     "traceback": [
      "\u001b[31m---------------------------------------------------------------------------\u001b[39m",
      "\u001b[31mTypeError\u001b[39m                                 Traceback (most recent call last)",
      "\u001b[36mCell\u001b[39m\u001b[36m \u001b[39m\u001b[32mIn[4]\u001b[39m\u001b[32m, line 1\u001b[39m\n\u001b[32m----> \u001b[39m\u001b[32m1\u001b[39m \u001b[43mX\u001b[49m\u001b[43m[\u001b[49m\u001b[32;43m0\u001b[39;49m\u001b[43m]\u001b[49m\n",
      "\u001b[31mTypeError\u001b[39m: 'set' object is not subscriptable"
     ]
    }
   ],
   "source": [
    "X[0]"
   ]
  },
  {
   "cell_type": "code",
   "execution_count": 5,
   "id": "92e8d7ee",
   "metadata": {},
   "outputs": [],
   "source": [
    "X={10,20,30,40,50,60}\n",
    "Y={20,40,60,80}"
   ]
  },
  {
   "cell_type": "code",
   "execution_count": 7,
   "id": "2261a399",
   "metadata": {},
   "outputs": [
    {
     "data": {
      "text/plain": [
       "{10, 20, 30, 40, 50, 60, 80}"
      ]
     },
     "execution_count": 7,
     "metadata": {},
     "output_type": "execute_result"
    }
   ],
   "source": [
    "X.union(Y)"
   ]
  },
  {
   "cell_type": "code",
   "execution_count": 8,
   "id": "39ecbfd0",
   "metadata": {},
   "outputs": [
    {
     "data": {
      "text/plain": [
       "{10, 20, 30, 40, 50, 60, 80}"
      ]
     },
     "execution_count": 8,
     "metadata": {},
     "output_type": "execute_result"
    }
   ],
   "source": [
    "Y.union(X)"
   ]
  },
  {
   "cell_type": "code",
   "execution_count": 9,
   "id": "111fcd64",
   "metadata": {},
   "outputs": [
    {
     "data": {
      "text/plain": [
       "{20, 40, 60}"
      ]
     },
     "execution_count": 9,
     "metadata": {},
     "output_type": "execute_result"
    }
   ],
   "source": [
    "X.intersection(Y)"
   ]
  },
  {
   "cell_type": "code",
   "execution_count": 10,
   "id": "b2955af0",
   "metadata": {},
   "outputs": [
    {
     "data": {
      "text/plain": [
       "{10, 30, 50}"
      ]
     },
     "execution_count": 10,
     "metadata": {},
     "output_type": "execute_result"
    }
   ],
   "source": [
    "X.difference(Y)"
   ]
  },
  {
   "cell_type": "code",
   "execution_count": 11,
   "id": "1922045b",
   "metadata": {},
   "outputs": [
    {
     "data": {
      "text/plain": [
       "({10, 20, 30, 40, 50, 60}, {20, 40, 60, 80})"
      ]
     },
     "execution_count": 11,
     "metadata": {},
     "output_type": "execute_result"
    }
   ],
   "source": [
    "X,Y"
   ]
  },
  {
   "cell_type": "code",
   "execution_count": 12,
   "id": "7214d6da",
   "metadata": {},
   "outputs": [],
   "source": [
    "X.difference_update(Y)"
   ]
  },
  {
   "cell_type": "code",
   "execution_count": 13,
   "id": "c9047f2f",
   "metadata": {},
   "outputs": [
    {
     "data": {
      "text/plain": [
       "({10, 30, 50}, {20, 40, 60, 80})"
      ]
     },
     "execution_count": 13,
     "metadata": {},
     "output_type": "execute_result"
    }
   ],
   "source": [
    "X,Y"
   ]
  },
  {
   "cell_type": "code",
   "execution_count": 14,
   "id": "974f4df3",
   "metadata": {},
   "outputs": [],
   "source": [
    "X={10,20,30,40,50,60}\n",
    "Y={20,40,60,80}"
   ]
  },
  {
   "cell_type": "code",
   "execution_count": 19,
   "id": "d380bdfb",
   "metadata": {},
   "outputs": [
    {
     "data": {
      "text/plain": [
       "{80}"
      ]
     },
     "execution_count": 19,
     "metadata": {},
     "output_type": "execute_result"
    }
   ],
   "source": [
    "Y.difference(X)"
   ]
  },
  {
   "cell_type": "code",
   "execution_count": 18,
   "id": "7f240ab6",
   "metadata": {},
   "outputs": [
    {
     "data": {
      "text/plain": [
       "({10, 20, 30, 40, 50, 60}, {80})"
      ]
     },
     "execution_count": 18,
     "metadata": {},
     "output_type": "execute_result"
    }
   ],
   "source": [
    "Y.difference_update(X)\n",
    "X,Y"
   ]
  },
  {
   "cell_type": "code",
   "execution_count": 22,
   "id": "865ded6d",
   "metadata": {},
   "outputs": [
    {
     "data": {
      "text/plain": [
       "{10, 30, 50, 80}"
      ]
     },
     "execution_count": 22,
     "metadata": {},
     "output_type": "execute_result"
    }
   ],
   "source": [
    "X={10,20,30,40,50,60}\n",
    "Y={20,40,60,80}\n",
    "X.symmetric_difference(Y)"
   ]
  },
  {
   "cell_type": "code",
   "execution_count": 23,
   "id": "c1c66e32",
   "metadata": {},
   "outputs": [
    {
     "data": {
      "text/plain": [
       "False"
      ]
     },
     "execution_count": 23,
     "metadata": {},
     "output_type": "execute_result"
    }
   ],
   "source": [
    "X={10,20,30,40,50,60}\n",
    "Y={20,40,60,80}\n",
    "Y.issubset(X)"
   ]
  },
  {
   "cell_type": "code",
   "execution_count": 24,
   "id": "eaf4a3ed",
   "metadata": {},
   "outputs": [
    {
     "data": {
      "text/plain": [
       "True"
      ]
     },
     "execution_count": 24,
     "metadata": {},
     "output_type": "execute_result"
    }
   ],
   "source": [
    "X={10,20,30,40,50,60}\n",
    "Y={20,40,60}\n",
    "Y.issubset(X)\n"
   ]
  },
  {
   "cell_type": "code",
   "execution_count": 25,
   "id": "75d889c4",
   "metadata": {},
   "outputs": [
    {
     "data": {
      "text/plain": [
       "True"
      ]
     },
     "execution_count": 25,
     "metadata": {},
     "output_type": "execute_result"
    }
   ],
   "source": [
    "X.issuperset(Y)"
   ]
  },
  {
   "cell_type": "code",
   "execution_count": 26,
   "id": "38b6b847",
   "metadata": {},
   "outputs": [
    {
     "data": {
      "text/plain": [
       "False"
      ]
     },
     "execution_count": 26,
     "metadata": {},
     "output_type": "execute_result"
    }
   ],
   "source": [
    "X.isdisjoint(Y)"
   ]
  },
  {
   "cell_type": "code",
   "execution_count": 27,
   "id": "66180545",
   "metadata": {},
   "outputs": [
    {
     "data": {
      "text/plain": [
       "11"
      ]
     },
     "execution_count": 27,
     "metadata": {},
     "output_type": "execute_result"
    }
   ],
   "source": [
    "X={10,20,30,40,50,60,70,80,90,100}\n",
    "Y={20,40,60,80.100,120,140,160}\n",
    "len(X.symmetric_difference(Y))"
   ]
  },
  {
   "cell_type": "code",
   "execution_count": 29,
   "id": "19c4fb3a",
   "metadata": {},
   "outputs": [
    {
     "data": {
      "text/plain": [
       "7"
      ]
     },
     "execution_count": 29,
     "metadata": {},
     "output_type": "execute_result"
    }
   ],
   "source": [
    "len(X.difference(Y))"
   ]
  },
  {
   "cell_type": "code",
   "execution_count": 32,
   "id": "3f26607e",
   "metadata": {},
   "outputs": [
    {
     "data": {
      "text/plain": [
       "7"
      ]
     },
     "execution_count": 32,
     "metadata": {},
     "output_type": "execute_result"
    }
   ],
   "source": [
    "X.difference_update(Y)\n",
    "len(X)"
   ]
  },
  {
   "cell_type": "code",
   "execution_count": 33,
   "id": "2ac2079c",
   "metadata": {},
   "outputs": [
    {
     "name": "stdout",
     "output_type": "stream",
     "text": [
      "125\n",
      "75\n",
      "2500\n",
      "4.0\n",
      "0\n",
      "100000000000000000000000000000000000000000000000000\n",
      "4\n"
     ]
    }
   ],
   "source": [
    "X=100\n",
    "Y=25\n",
    "print(X+Y)\n",
    "print(X-Y)\n",
    "print(X*Y)\n",
    "print(X/Y)\n",
    "print(X%Y)\n",
    "print(X**Y)\n",
    "print(X//Y)"
   ]
  },
  {
   "cell_type": "code",
   "execution_count": 36,
   "id": "8b1c246e",
   "metadata": {},
   "outputs": [
    {
     "name": "stdout",
     "output_type": "stream",
     "text": [
      "175\n",
      "125\n",
      "1350\n",
      "-1150\n",
      "5025\n",
      "4975\n",
      "125000\n",
      "0.08\n",
      "50.0\n",
      "200.0\n"
     ]
    }
   ],
   "source": [
    "X=100\n",
    "Y=50\n",
    "Z=25\n",
    "print(X+Y+Z)\n",
    "print(X+Y-Z)\n",
    "print(X+Y*Z)\n",
    "print(X-Y*Z)\n",
    "print(X*Y+Z)\n",
    "print(X*Y-Z)\n",
    "print(X*Y*Z)\n",
    "print(X/Y/Z)\n",
    "print(X/Y*Z)\n",
    "print(X*Y/Z)\n"
   ]
  },
  {
   "cell_type": "code",
   "execution_count": 37,
   "id": "08776fe5",
   "metadata": {},
   "outputs": [],
   "source": [
    "X-=100\n",
    "Y+=50\n",
    "Z*=25\n"
   ]
  },
  {
   "cell_type": "code",
   "execution_count": 38,
   "id": "fee58fbf",
   "metadata": {},
   "outputs": [
    {
     "data": {
      "text/plain": [
       "(0, 100, 625)"
      ]
     },
     "execution_count": 38,
     "metadata": {},
     "output_type": "execute_result"
    }
   ],
   "source": [
    "X,Y,Z"
   ]
  },
  {
   "cell_type": "code",
   "execution_count": 40,
   "id": "df93a27c",
   "metadata": {},
   "outputs": [
    {
     "name": "stdout",
     "output_type": "stream",
     "text": [
      "True\n",
      "True\n",
      "False\n",
      "False\n",
      "True\n",
      "False\n"
     ]
    }
   ],
   "source": [
    "X=100\n",
    "Y=200\n",
    "print(X<Y)\n",
    "print(X<=Y)\n",
    "print(X>Y)\n",
    "print(X>=Y)\n",
    "print(X!=Y)\n",
    "print(X==Y)"
   ]
  },
  {
   "cell_type": "code",
   "execution_count": 41,
   "id": "c1932d0b",
   "metadata": {},
   "outputs": [
    {
     "data": {
      "text/plain": [
       "'0b100111000100000'"
      ]
     },
     "execution_count": 41,
     "metadata": {},
     "output_type": "execute_result"
    }
   ],
   "source": [
    "bin(X*Y)"
   ]
  },
  {
   "cell_type": "code",
   "execution_count": 42,
   "id": "33345a6d",
   "metadata": {},
   "outputs": [
    {
     "data": {
      "text/plain": [
       "'0b100101100'"
      ]
     },
     "execution_count": 42,
     "metadata": {},
     "output_type": "execute_result"
    }
   ],
   "source": [
    "bin(X+Y)"
   ]
  },
  {
   "cell_type": "code",
   "execution_count": 43,
   "id": "bba2f30a",
   "metadata": {},
   "outputs": [
    {
     "data": {
      "text/plain": [
       "'0b100101100'"
      ]
     },
     "execution_count": 43,
     "metadata": {},
     "output_type": "execute_result"
    }
   ],
   "source": [
    "bin(300)"
   ]
  },
  {
   "cell_type": "code",
   "execution_count": 44,
   "id": "8439c9af",
   "metadata": {},
   "outputs": [
    {
     "data": {
      "text/plain": [
       "236"
      ]
     },
     "execution_count": 44,
     "metadata": {},
     "output_type": "execute_result"
    }
   ],
   "source": [
    "X | Y"
   ]
  },
  {
   "cell_type": "code",
   "execution_count": 45,
   "id": "2f6568b9",
   "metadata": {},
   "outputs": [
    {
     "data": {
      "text/plain": [
       "236"
      ]
     },
     "execution_count": 45,
     "metadata": {},
     "output_type": "execute_result"
    }
   ],
   "source": [
    "Y | X"
   ]
  },
  {
   "cell_type": "code",
   "execution_count": 46,
   "id": "a9d35496",
   "metadata": {},
   "outputs": [
    {
     "data": {
      "text/plain": [
       "64"
      ]
     },
     "execution_count": 46,
     "metadata": {},
     "output_type": "execute_result"
    }
   ],
   "source": [
    "X & Y"
   ]
  },
  {
   "cell_type": "code",
   "execution_count": 47,
   "id": "8c7da9ed",
   "metadata": {},
   "outputs": [
    {
     "data": {
      "text/plain": [
       "'0b1000000'"
      ]
     },
     "execution_count": 47,
     "metadata": {},
     "output_type": "execute_result"
    }
   ],
   "source": [
    "bin(X & Y)"
   ]
  },
  {
   "cell_type": "code",
   "execution_count": 48,
   "id": "103ec6ff",
   "metadata": {},
   "outputs": [
    {
     "data": {
      "text/plain": [
       "-173"
      ]
     },
     "execution_count": 48,
     "metadata": {},
     "output_type": "execute_result"
    }
   ],
   "source": [
    "~(X ^ Y)"
   ]
  },
  {
   "cell_type": "code",
   "execution_count": 49,
   "id": "96d9a2fe",
   "metadata": {},
   "outputs": [
    {
     "data": {
      "text/plain": [
       "172"
      ]
     },
     "execution_count": 49,
     "metadata": {},
     "output_type": "execute_result"
    }
   ],
   "source": [
    "(X ^ Y)"
   ]
  },
  {
   "cell_type": "code",
   "execution_count": 50,
   "id": "6f140599",
   "metadata": {},
   "outputs": [
    {
     "data": {
      "text/plain": [
       "236"
      ]
     },
     "execution_count": 50,
     "metadata": {},
     "output_type": "execute_result"
    }
   ],
   "source": [
    "X=1000\n",
    "y=500\n",
    "Z=100\n",
    "(X & Y | Z)"
   ]
  },
  {
   "cell_type": "code",
   "execution_count": 51,
   "id": "bfb8ef33",
   "metadata": {},
   "outputs": [
    {
     "data": {
      "text/plain": [
       "-237"
      ]
     },
     "execution_count": 51,
     "metadata": {},
     "output_type": "execute_result"
    }
   ],
   "source": [
    "~(X & Y | Z)"
   ]
  },
  {
   "cell_type": "code",
   "execution_count": 52,
   "id": "a96f2e2d",
   "metadata": {},
   "outputs": [
    {
     "data": {
      "text/plain": [
       "836"
      ]
     },
     "execution_count": 52,
     "metadata": {},
     "output_type": "execute_result"
    }
   ],
   "source": [
    "(X ^ Y ^ Z)"
   ]
  },
  {
   "cell_type": "code",
   "execution_count": 54,
   "id": "f07b8cee",
   "metadata": {},
   "outputs": [
    {
     "data": {
      "text/plain": [
       "'0b1101000100'"
      ]
     },
     "execution_count": 54,
     "metadata": {},
     "output_type": "execute_result"
    }
   ],
   "source": [
    "bin(X ^ Y ^ Z)"
   ]
  },
  {
   "cell_type": "code",
   "execution_count": 53,
   "id": "9a8dd977",
   "metadata": {},
   "outputs": [
    {
     "data": {
      "text/plain": [
       "-837"
      ]
     },
     "execution_count": 53,
     "metadata": {},
     "output_type": "execute_result"
    }
   ],
   "source": [
    "~(X ^ Y ^ Z)"
   ]
  },
  {
   "cell_type": "code",
   "execution_count": 55,
   "id": "4fe8f26b",
   "metadata": {},
   "outputs": [
    {
     "data": {
      "text/plain": [
       "'-0b1101000101'"
      ]
     },
     "execution_count": 55,
     "metadata": {},
     "output_type": "execute_result"
    }
   ],
   "source": [
    "bin(~(X ^ Y ^ Z))"
   ]
  }
 ],
 "metadata": {
  "kernelspec": {
   "display_name": "Python 3",
   "language": "python",
   "name": "python3"
  },
  "language_info": {
   "codemirror_mode": {
    "name": "ipython",
    "version": 3
   },
   "file_extension": ".py",
   "mimetype": "text/x-python",
   "name": "python",
   "nbconvert_exporter": "python",
   "pygments_lexer": "ipython3",
   "version": "3.13.5"
  }
 },
 "nbformat": 4,
 "nbformat_minor": 5
}
