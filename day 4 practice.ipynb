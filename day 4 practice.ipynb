{
 "cells": [
  {
   "cell_type": "code",
   "execution_count": 11,
   "id": "49a8a27e",
   "metadata": {},
   "outputs": [
    {
     "name": "stdout",
     "output_type": "stream",
     "text": [
      "User Data:admin\n",
      "Thanks for Subscription:True\n",
      "Upgrade and enjoy premium services:False\n",
      "Access granted:Can watch basic content.\n",
      "Access granted:Can watch Content.\n",
      "Access granted:Basic features available.\n",
      "User is not a non-subscribed viewer.\n"
     ]
    }
   ],
   "source": [
    "User_data = \"admin\"\n",
    "subscribed = True\n",
    "Upgrade_to_premium = False\n",
    "\n",
    "print(f\"User Data:{User_data}\")\n",
    "print(f\"Thanks for Subscription:{subscribed}\")\n",
    "print(f\"Upgrade and enjoy premium services:{Upgrade_to_premium}\")\n",
    "\n",
    "if User_data == \"admin\" and subscribed:\n",
    "    print(\"Access granted:Can watch basic content.\")\n",
    "else:\n",
    "   print(\"Access denied:cannot watch content.\")\n",
    "\n",
    "if User_data == \"admin\" or User_data == \"Valid mobile number\":\n",
    "    print(\"Access granted:Can watch Content.\")\n",
    "else:\n",
    "   print(\"Access denied:Cannot watch Content.\")\n",
    "\n",
    "\n",
    "if subscribed and not Upgrade_to_premium:\n",
    "    print(\"Access granted:Basic features available.\")\n",
    "elif subscribed and Upgrade_to_premium:\n",
    "    print(\"Access granted:All premium content is unlocked.\")\n",
    "else :\n",
    "     print(\"Acces denied:NO Subscribtion.\")\n",
    "\n",
    "if not(User_data==\"viewer\" and not subscribed):\n",
    "    print(\"User is not a non-subscribed viewer.\")\n",
    "else :\n",
    "   print(\"User is  a non-subscribed viewer.\")"
   ]
  }
 ],
 "metadata": {
  "kernelspec": {
   "display_name": "Python 3",
   "language": "python",
   "name": "python3"
  },
  "language_info": {
   "codemirror_mode": {
    "name": "ipython",
    "version": 3
   },
   "file_extension": ".py",
   "mimetype": "text/x-python",
   "name": "python",
   "nbconvert_exporter": "python",
   "pygments_lexer": "ipython3",
   "version": "3.13.5"
  }
 },
 "nbformat": 4,
 "nbformat_minor": 5
}
