{
 "cells": [
  {
   "cell_type": "code",
   "execution_count": 2,
   "id": "d7ce19e7",
   "metadata": {},
   "outputs": [
    {
     "name": "stdout",
     "output_type": "stream",
     "text": [
      "X is greater than 45\n"
     ]
    }
   ],
   "source": [
    "X=50\n",
    "if X>45:\n",
    "    print(\"X is greater than 45\")\n",
    "else:\n",
    "    print(\"X is not greater than 45\")\n",
    "    X=70\n",
    "    Y=30\n",
    "    print(X+Y)\n"
   ]
  },
  {
   "cell_type": "code",
   "execution_count": 3,
   "id": "459fb37d",
   "metadata": {},
   "outputs": [
    {
     "name": "stdout",
     "output_type": "stream",
     "text": [
      "X is greater than 45\n",
      "X is not greater than 45\n",
      "100\n"
     ]
    }
   ],
   "source": [
    "X=50\n",
    "if X>45:\n",
    "    print(\"X is greater than 45\")\n",
    "    print(\"X is not greater than 45\")\n",
    "    X=70\n",
    "    Y=30\n",
    "    print(X+Y)\n"
   ]
  },
  {
   "cell_type": "code",
   "execution_count": 9,
   "id": "702bbb14",
   "metadata": {},
   "outputs": [
    {
     "data": {
      "text/plain": [
       "['data', 'engineer']"
      ]
     },
     "execution_count": 9,
     "metadata": {},
     "output_type": "execute_result"
    }
   ],
   "source": [
    "X=\"data engineer\".split()\n",
    "X"
   ]
  },
  {
   "cell_type": "code",
   "execution_count": 9,
   "id": "e80d79e9",
   "metadata": {},
   "outputs": [
    {
     "name": "stdout",
     "output_type": "stream",
     "text": [
      "Success\n"
     ]
    }
   ],
   "source": [
    "\n",
    "X=\"Data Engineering\"\n",
    "if len(X)%2==0 and X.startswith(\"D\"):\n",
    "   print(\"Success\")"
   ]
  },
  {
   "cell_type": "code",
   "execution_count": 11,
   "id": "0178d965",
   "metadata": {},
   "outputs": [
    {
     "name": "stdout",
     "output_type": "stream",
     "text": [
      "ok\n"
     ]
    }
   ],
   "source": [
    "if not(len(X)%2==0) or X.endswith(\"g\"):\n",
    "    print(\"ok\")"
   ]
  },
  {
   "cell_type": "code",
   "execution_count": 16,
   "id": "f57bd896",
   "metadata": {},
   "outputs": [
    {
     "name": "stdout",
     "output_type": "stream",
     "text": [
      "X is having more letters\n"
     ]
    }
   ],
   "source": [
    "if len(X)==5:\n",
    "    print(\"X is having 5 letters\")\n",
    "else :\n",
    "    print(\"X is having more letters\")"
   ]
  },
  {
   "cell_type": "code",
   "execution_count": 18,
   "id": "b74b695e",
   "metadata": {},
   "outputs": [
    {
     "name": "stdout",
     "output_type": "stream",
     "text": [
      "X is having 16 letters\n"
     ]
    }
   ],
   "source": [
    "if len(X)==16:\n",
    "    print(\"X is having 16 letters\")\n",
    "else :\n",
    "    print(\"X is having more letters\")"
   ]
  },
  {
   "cell_type": "code",
   "execution_count": 31,
   "id": "1829789b",
   "metadata": {},
   "outputs": [
    {
     "data": {
      "text/plain": [
       "'6'"
      ]
     },
     "execution_count": 31,
     "metadata": {},
     "output_type": "execute_result"
    }
   ],
   "source": [
    "X=input()\n",
    "X"
   ]
  },
  {
   "cell_type": "code",
   "execution_count": 36,
   "id": "ba0f8376",
   "metadata": {},
   "outputs": [
    {
     "name": "stdout",
     "output_type": "stream",
     "text": [
      "odd number\n",
      "13\n"
     ]
    }
   ],
   "source": [
    "num=int(input(\"Enter a number: \"))\n",
    "if num%2==0:\n",
    "    print(\"even number\")\n",
    "    print(num)\n",
    "else:\n",
    "    print(\"odd number\")\n",
    "    print(num)\n"
   ]
  },
  {
   "cell_type": "code",
   "execution_count": 37,
   "id": "02e30c50",
   "metadata": {},
   "outputs": [
    {
     "name": "stdout",
     "output_type": "stream",
     "text": [
      "even number\n",
      "12\n"
     ]
    }
   ],
   "source": [
    "num=int(input(\"Enter a number: \"))\n",
    "if num%2==0:\n",
    "    print(\"even number\")\n",
    "    print(num)\n",
    "else:\n",
    "    print(\"odd number\")\n",
    "    print(num)\n"
   ]
  },
  {
   "cell_type": "code",
   "execution_count": 16,
   "id": "9529cb51",
   "metadata": {},
   "outputs": [
    {
     "name": "stdout",
     "output_type": "stream",
     "text": [
      "*****\n",
      "****\n",
      "***\n",
      "**\n",
      "*\n",
      "*\n",
      "**\n",
      "***\n",
      "****\n",
      "*****\n"
     ]
    }
   ],
   "source": [
    "for i in range(5,0,-1):\n",
    "    print(\"*\"*i)\n",
    "for j in range(1,6):\n",
    "    print(\"*\"*j)"
   ]
  },
  {
   "cell_type": "code",
   "execution_count": 18,
   "id": "8ea77a2e",
   "metadata": {},
   "outputs": [
    {
     "name": "stdout",
     "output_type": "stream",
     "text": [
      "*\n",
      "**\n",
      "***\n",
      "****\n",
      "*****\n",
      "*****\n",
      "****\n",
      "***\n",
      "**\n",
      "*\n",
      "*\n",
      "**\n",
      "***\n",
      "****\n",
      "*****\n",
      "*****\n",
      "****\n",
      "***\n",
      "**\n",
      "*\n"
     ]
    }
   ],
   "source": [
    "for i in range(1,6):\n",
    "    print(\"*\"*i)\n",
    "for j in range(5,0,-1):\n",
    "    print(\"*\"*j)\n",
    "for k in range(1,6):\n",
    "    print(\"*\"*k)\n",
    "for l in range(5,0,-1):\n",
    "    print(\"*\"*l)"
   ]
  },
  {
   "cell_type": "code",
   "execution_count": 71,
   "id": "b3d0d232",
   "metadata": {},
   "outputs": [
    {
     "name": "stdout",
     "output_type": "stream",
     "text": [
      "\n",
      "1\n",
      "22\n",
      "333\n",
      "4444\n",
      "55555\n",
      "666666\n",
      "7777777\n",
      "88888888\n",
      "999999999\n",
      "10101010101010101010\n",
      "1111111111111111111111\n",
      "121212121212121212121212\n",
      "value given for X is 12\n"
     ]
    }
   ],
   "source": [
    "X=int(input(\"Enter the no. of rows:\"))\n",
    "for i in range(X+1):\n",
    "    for j in range(i):\n",
    "     print(i,end=\"\")\n",
    "    print()\n",
    "print(\"value given for X is\",X)   "
   ]
  },
  {
   "cell_type": "code",
   "execution_count": 84,
   "id": "d0189dc3",
   "metadata": {},
   "outputs": [
    {
     "name": "stdout",
     "output_type": "stream",
     "text": [
      "        ***************\n"
     ]
    }
   ],
   "source": [
    "X=int(input(\"Enter the no. of rows:\"))\n",
    "for i in range(1,X+1):\n",
    "    print(\"\"*(X-i),end=\" \")\n",
    "print(\"*\"*(2*i-1))\n"
   ]
  }
 ],
 "metadata": {
  "kernelspec": {
   "display_name": "Python 3",
   "language": "python",
   "name": "python3"
  },
  "language_info": {
   "codemirror_mode": {
    "name": "ipython",
    "version": 3
   },
   "file_extension": ".py",
   "mimetype": "text/x-python",
   "name": "python",
   "nbconvert_exporter": "python",
   "pygments_lexer": "ipython3",
   "version": "3.13.5"
  }
 },
 "nbformat": 4,
 "nbformat_minor": 5
}
